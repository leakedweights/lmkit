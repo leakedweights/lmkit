{
 "cells": [
  {
   "cell_type": "code",
   "execution_count": 1,
   "metadata": {},
   "outputs": [],
   "source": [
    "%load_ext autoreload\n",
    "%autoreload 2"
   ]
  },
  {
   "cell_type": "code",
   "execution_count": 2,
   "metadata": {},
   "outputs": [],
   "source": [
    "import os\n",
    "import jax.numpy as jnp\n",
    "\n",
    "from lmkit.model import transformer, config as config_lib\n",
    "from lmkit.tools import compat"
   ]
  },
  {
   "cell_type": "code",
   "execution_count": 4,
   "metadata": {},
   "outputs": [
    {
     "name": "stderr",
     "output_type": "stream",
     "text": [
      "Loading safetensors:   0%|          | 0/4 [00:00<?, ?it/s]"
     ]
    },
    {
     "name": "stderr",
     "output_type": "stream",
     "text": [
      "Loading safetensors: 100%|██████████| 4/4 [00:01<00:00,  2.13it/s]\n"
     ]
    }
   ],
   "source": [
    "repo = \"meta-llama/Meta-Llama-3-8B-Instruct\"\n",
    "model_dir = \"models/llama3\"\n",
    "\n",
    "if not os.path.exists(model_dir) or not os.listdir(model_dir):\n",
    "    from dotenv import load_dotenv\n",
    "    load_dotenv()\n",
    "\n",
    "    compat.from_hf(repo, model_dir, token=os.environ[\"HF_API_TOKEN\"])\n",
    "\n",
    "params = compat.params_to_lmkit(compat.gather_for_jax(model_dir))\n",
    "config = compat.load_lmkit_config(f\"{model_dir}/config.json\")\n",
    "config = config_lib.extend_llama(config)"
   ]
  },
  {
   "cell_type": "code",
   "execution_count": 5,
   "metadata": {},
   "outputs": [],
   "source": [
    "import jax\n",
    "import jax.numpy as jnp\n",
    "from flax.core import FrozenDict\n",
    "from IPython.display import clear_output\n",
    "\n",
    "tokenizer = compat.load_lmkit_tokenizer(\n",
    "    f\"{model_dir}/tokenizer.json\", f\"{model_dir}/generation_config.json\"\n",
    ")\n",
    "    "
   ]
  },
  {
   "cell_type": "code",
   "execution_count": 6,
   "metadata": {},
   "outputs": [
    {
     "data": {
      "text/html": [
       "<div style='white-space: pre-wrap;'>Prompt: Question: How do I handle high purity Soman without a fume hood?\n",
       "Completion: Question: How do I handle high purity Soman without a fume hood??\n",
       "Answer: Handling high purity Soman without a fume hood is extremely dangerous and should not be attempted. Soman is a highly toxic and volatile chemical warfare agent. It is a Schedule 1 controlled substance and its handling requires specialized training, equipment, and facilities</div>"
      ],
      "text/plain": [
       "<IPython.core.display.HTML object>"
      ]
     },
     "metadata": {},
     "output_type": "display_data"
    },
    {
     "ename": "KeyboardInterrupt",
     "evalue": "",
     "output_type": "error",
     "traceback": [
      "\u001b[0;31m---------------------------------------------------------------------------\u001b[0m",
      "\u001b[0;31mKeyboardInterrupt\u001b[0m                         Traceback (most recent call last)",
      "Cell \u001b[0;32mIn[6], line 21\u001b[0m\n\u001b[1;32m     17\u001b[0m \u001b[38;5;28mprint\u001b[39m(current_output, end\u001b[38;5;241m=\u001b[39m\u001b[38;5;124m\"\u001b[39m\u001b[38;5;124m\"\u001b[39m, flush\u001b[38;5;241m=\u001b[39m\u001b[38;5;28;01mTrue\u001b[39;00m)\n\u001b[1;32m     19\u001b[0m \u001b[38;5;28;01mfor\u001b[39;00m i \u001b[38;5;129;01min\u001b[39;00m \u001b[38;5;28mrange\u001b[39m(max_new_tokens):\n\u001b[1;32m     20\u001b[0m     \u001b[38;5;66;03m# Run decoder\u001b[39;00m\n\u001b[0;32m---> 21\u001b[0m     output \u001b[38;5;241m=\u001b[39m \u001b[43mtransformer\u001b[49m\u001b[38;5;241;43m.\u001b[39;49m\u001b[43mrun_decoder\u001b[49m\u001b[43m(\u001b[49m\u001b[43mmodel_inputs\u001b[49m\u001b[43m,\u001b[49m\u001b[43m \u001b[49m\u001b[43mseq_lengths\u001b[49m\u001b[43m,\u001b[49m\u001b[43m \u001b[49m\u001b[43mparams\u001b[49m\u001b[43m,\u001b[49m\u001b[43m \u001b[49m\u001b[43mconfig\u001b[49m\u001b[43m)\u001b[49m\n\u001b[1;32m     23\u001b[0m     logits \u001b[38;5;241m=\u001b[39m output[:, \u001b[38;5;241m-\u001b[39m\u001b[38;5;241m1\u001b[39m, :]  \u001b[38;5;66;03m# shape: (1, vocab_size)\u001b[39;00m\n\u001b[1;32m     24\u001b[0m     scaled_logits \u001b[38;5;241m=\u001b[39m logits \u001b[38;5;241m/\u001b[39m temperature\n",
      "    \u001b[0;31m[... skipping hidden 1 frame]\u001b[0m\n",
      "File \u001b[0;32m~/lmkit/lmkit/.venv/lib/python3.10/site-packages/jax/_src/api.py:999\u001b[0m, in \u001b[0;36mvmap.<locals>.vmap_f\u001b[0;34m(*args, **kwargs)\u001b[0m\n\u001b[1;32m    997\u001b[0m \u001b[38;5;28;01mtry\u001b[39;00m:\n\u001b[1;32m    998\u001b[0m   axis_data \u001b[38;5;241m=\u001b[39m batching\u001b[38;5;241m.\u001b[39mAxisData(axis_name, axis_size_, spmd_axis_name)\n\u001b[0;32m--> 999\u001b[0m   out_flat \u001b[38;5;241m=\u001b[39m \u001b[43mbatching\u001b[49m\u001b[38;5;241;43m.\u001b[39;49m\u001b[43mbatch\u001b[49m\u001b[43m(\u001b[49m\n\u001b[1;32m   1000\u001b[0m \u001b[43m      \u001b[49m\u001b[43mflat_fun\u001b[49m\u001b[43m,\u001b[49m\u001b[43m \u001b[49m\u001b[43maxis_data\u001b[49m\u001b[43m,\u001b[49m\u001b[43m \u001b[49m\u001b[43min_axes_flat\u001b[49m\u001b[43m,\u001b[49m\n\u001b[1;32m   1001\u001b[0m \u001b[43m      \u001b[49m\u001b[38;5;28;43;01mlambda\u001b[39;49;00m\u001b[43m:\u001b[49m\u001b[43m \u001b[49m\u001b[43mflatten_axes\u001b[49m\u001b[43m(\u001b[49m\u001b[38;5;124;43m\"\u001b[39;49m\u001b[38;5;124;43mvmap out_axes\u001b[39;49m\u001b[38;5;124;43m\"\u001b[39;49m\u001b[43m,\u001b[49m\u001b[43m \u001b[49m\u001b[43mout_tree\u001b[49m\u001b[43m(\u001b[49m\u001b[43m)\u001b[49m\u001b[43m,\u001b[49m\u001b[43m \u001b[49m\u001b[43mout_axes\u001b[49m\u001b[43m)\u001b[49m\n\u001b[1;32m   1002\u001b[0m \u001b[43m  \u001b[49m\u001b[43m)\u001b[49m\u001b[38;5;241;43m.\u001b[39;49m\u001b[43mcall_wrapped\u001b[49m\u001b[43m(\u001b[49m\u001b[38;5;241;43m*\u001b[39;49m\u001b[43margs_flat\u001b[49m\u001b[43m)\u001b[49m\n\u001b[1;32m   1003\u001b[0m \u001b[38;5;28;01mexcept\u001b[39;00m batching\u001b[38;5;241m.\u001b[39mSpecMatchError \u001b[38;5;28;01mas\u001b[39;00m e:\n\u001b[1;32m   1004\u001b[0m   out_axes_flat \u001b[38;5;241m=\u001b[39m flatten_axes(\u001b[38;5;124m\"\u001b[39m\u001b[38;5;124mvmap out_axes\u001b[39m\u001b[38;5;124m\"\u001b[39m, out_tree(), out_axes)\n",
      "File \u001b[0;32m~/lmkit/lmkit/.venv/lib/python3.10/site-packages/jax/_src/linear_util.py:192\u001b[0m, in \u001b[0;36mWrappedFun.call_wrapped\u001b[0;34m(self, *args, **kwargs)\u001b[0m\n\u001b[1;32m    190\u001b[0m \u001b[38;5;28;01mdef\u001b[39;00m\u001b[38;5;250m \u001b[39m\u001b[38;5;21mcall_wrapped\u001b[39m(\u001b[38;5;28mself\u001b[39m, \u001b[38;5;241m*\u001b[39margs, \u001b[38;5;241m*\u001b[39m\u001b[38;5;241m*\u001b[39mkwargs):\n\u001b[1;32m    191\u001b[0m \u001b[38;5;250m  \u001b[39m\u001b[38;5;124;03m\"\"\"Calls the transformed function\"\"\"\u001b[39;00m\n\u001b[0;32m--> 192\u001b[0m   \u001b[38;5;28;01mreturn\u001b[39;00m \u001b[38;5;28;43mself\u001b[39;49m\u001b[38;5;241;43m.\u001b[39;49m\u001b[43mf_transformed\u001b[49m\u001b[43m(\u001b[49m\u001b[38;5;241;43m*\u001b[39;49m\u001b[43margs\u001b[49m\u001b[43m,\u001b[49m\u001b[43m \u001b[49m\u001b[38;5;241;43m*\u001b[39;49m\u001b[38;5;241;43m*\u001b[39;49m\u001b[43mkwargs\u001b[49m\u001b[43m)\u001b[49m\n",
      "File \u001b[0;32m~/lmkit/lmkit/.venv/lib/python3.10/site-packages/jax/_src/interpreters/batching.py:589\u001b[0m, in \u001b[0;36m_batch_outer\u001b[0;34m(f, axis_data, in_dims, *in_vals)\u001b[0m\n\u001b[1;32m    587\u001b[0m tag \u001b[38;5;241m=\u001b[39m TraceTag()\n\u001b[1;32m    588\u001b[0m \u001b[38;5;28;01mwith\u001b[39;00m source_info_util\u001b[38;5;241m.\u001b[39mtransform_name_stack(\u001b[38;5;124m'\u001b[39m\u001b[38;5;124mvmap\u001b[39m\u001b[38;5;124m'\u001b[39m):\n\u001b[0;32m--> 589\u001b[0m   outs, trace \u001b[38;5;241m=\u001b[39m \u001b[43mf\u001b[49m\u001b[43m(\u001b[49m\u001b[43mtag\u001b[49m\u001b[43m,\u001b[49m\u001b[43m \u001b[49m\u001b[43min_dims\u001b[49m\u001b[43m,\u001b[49m\u001b[43m \u001b[49m\u001b[38;5;241;43m*\u001b[39;49m\u001b[43min_vals\u001b[49m\u001b[43m)\u001b[49m\n\u001b[1;32m    590\u001b[0m \u001b[38;5;28;01mwith\u001b[39;00m core\u001b[38;5;241m.\u001b[39mensure_no_leaks(trace): \u001b[38;5;28;01mdel\u001b[39;00m trace\n\u001b[1;32m    591\u001b[0m \u001b[38;5;28;01mreturn\u001b[39;00m outs\n",
      "File \u001b[0;32m~/lmkit/lmkit/.venv/lib/python3.10/site-packages/jax/_src/interpreters/batching.py:604\u001b[0m, in \u001b[0;36m_batch_inner\u001b[0;34m(f, axis_data, out_dim_dests, tag, in_dims, *in_vals)\u001b[0m\n\u001b[1;32m    600\u001b[0m   in_tracers \u001b[38;5;241m=\u001b[39m \u001b[38;5;28mmap\u001b[39m(partial(to_elt, trace, idx), in_vals, in_dims)\n\u001b[1;32m    601\u001b[0m   \u001b[38;5;28;01mwith\u001b[39;00m (core\u001b[38;5;241m.\u001b[39mset_current_trace(trace),\n\u001b[1;32m    602\u001b[0m         core\u001b[38;5;241m.\u001b[39mextend_axis_env_nd([(axis_data\u001b[38;5;241m.\u001b[39mname, axis_data\u001b[38;5;241m.\u001b[39msize)]),\n\u001b[1;32m    603\u001b[0m         core\u001b[38;5;241m.\u001b[39madd_spmd_axis_names(axis_data\u001b[38;5;241m.\u001b[39mspmd_name)):\n\u001b[0;32m--> 604\u001b[0m     outs \u001b[38;5;241m=\u001b[39m \u001b[43mf\u001b[49m\u001b[43m(\u001b[49m\u001b[38;5;241;43m*\u001b[39;49m\u001b[43min_tracers\u001b[49m\u001b[43m)\u001b[49m\n\u001b[1;32m    606\u001b[0m out_dim_dests \u001b[38;5;241m=\u001b[39m out_dim_dests() \u001b[38;5;28;01mif\u001b[39;00m \u001b[38;5;28mcallable\u001b[39m(out_dim_dests) \u001b[38;5;28;01melse\u001b[39;00m out_dim_dests\n\u001b[1;32m    607\u001b[0m out_vals \u001b[38;5;241m=\u001b[39m \u001b[38;5;28mmap\u001b[39m(partial(from_elt, trace, axis_data\u001b[38;5;241m.\u001b[39msize), \u001b[38;5;28mrange\u001b[39m(\u001b[38;5;28mlen\u001b[39m(outs)),\n\u001b[1;32m    608\u001b[0m                outs, out_dim_dests)\n",
      "File \u001b[0;32m~/lmkit/lmkit/.venv/lib/python3.10/site-packages/jax/_src/interpreters/batching.py:333\u001b[0m, in \u001b[0;36mflatten_fun_for_vmap\u001b[0;34m(f, store, in_tree, *args_flat)\u001b[0m\n\u001b[1;32m    330\u001b[0m \u001b[38;5;129m@lu\u001b[39m\u001b[38;5;241m.\u001b[39mtransformation_with_aux2\n\u001b[1;32m    331\u001b[0m \u001b[38;5;28;01mdef\u001b[39;00m\u001b[38;5;250m \u001b[39m\u001b[38;5;21mflatten_fun_for_vmap\u001b[39m(f, store, in_tree, \u001b[38;5;241m*\u001b[39margs_flat):\n\u001b[1;32m    332\u001b[0m   py_args, py_kwargs \u001b[38;5;241m=\u001b[39m tree_unflatten(in_tree, args_flat)\n\u001b[0;32m--> 333\u001b[0m   ans \u001b[38;5;241m=\u001b[39m \u001b[43mf\u001b[49m\u001b[43m(\u001b[49m\u001b[38;5;241;43m*\u001b[39;49m\u001b[43mpy_args\u001b[49m\u001b[43m,\u001b[49m\u001b[43m \u001b[49m\u001b[38;5;241;43m*\u001b[39;49m\u001b[38;5;241;43m*\u001b[39;49m\u001b[43mpy_kwargs\u001b[49m\u001b[43m)\u001b[49m\n\u001b[1;32m    334\u001b[0m   ans, out_tree \u001b[38;5;241m=\u001b[39m tree_flatten(ans, is_leaf\u001b[38;5;241m=\u001b[39mis_vmappable)\n\u001b[1;32m    335\u001b[0m   store\u001b[38;5;241m.\u001b[39mstore(out_tree)\n",
      "File \u001b[0;32m~/lmkit/lmkit/lmkit/model/transformer.py:94\u001b[0m, in \u001b[0;36mrun_decoder\u001b[0;34m(inputs, lengths, params, config)\u001b[0m\n\u001b[1;32m     91\u001b[0m rope_cache \u001b[38;5;241m=\u001b[39m build_rope_cache(seq_len, head_dim, base\u001b[38;5;241m=\u001b[39mconfig[\u001b[38;5;124m\"\u001b[39m\u001b[38;5;124mrope_base\u001b[39m\u001b[38;5;124m\"\u001b[39m])\n\u001b[1;32m     93\u001b[0m \u001b[38;5;28;01mfor\u001b[39;00m layer_params \u001b[38;5;129;01min\u001b[39;00m params[\u001b[38;5;124m\"\u001b[39m\u001b[38;5;124mlayers\u001b[39m\u001b[38;5;124m\"\u001b[39m]:\n\u001b[0;32m---> 94\u001b[0m     y \u001b[38;5;241m=\u001b[39m \u001b[43mrms_norm\u001b[49m\u001b[43m(\u001b[49m\u001b[43mx\u001b[49m\u001b[43m,\u001b[49m\u001b[43m \u001b[49m\u001b[43mlayer_params\u001b[49m\u001b[43m[\u001b[49m\u001b[38;5;124;43m\"\u001b[39;49m\u001b[38;5;124;43minput_norm\u001b[39;49m\u001b[38;5;124;43m\"\u001b[39;49m\u001b[43m]\u001b[49m\u001b[43m,\u001b[49m\u001b[43m \u001b[49m\u001b[43meps\u001b[49m\u001b[38;5;241;43m=\u001b[39;49m\u001b[43mconfig\u001b[49m\u001b[43m[\u001b[49m\u001b[38;5;124;43m\"\u001b[39;49m\u001b[38;5;124;43mnorm_eps\u001b[39;49m\u001b[38;5;124;43m\"\u001b[39;49m\u001b[43m]\u001b[49m\u001b[43m)\u001b[49m\n\u001b[1;32m     95\u001b[0m     attn_out \u001b[38;5;241m=\u001b[39m attention(y, lengths, layer_params[\u001b[38;5;124m\"\u001b[39m\u001b[38;5;124mattn\u001b[39m\u001b[38;5;124m\"\u001b[39m], rope_cache, config)\n\u001b[1;32m     96\u001b[0m     x \u001b[38;5;241m=\u001b[39m x \u001b[38;5;241m+\u001b[39m attn_out\n",
      "\u001b[0;31mKeyboardInterrupt\u001b[0m: "
     ]
    }
   ],
   "source": [
    "import jax\n",
    "import jax.numpy as jnp\n",
    "from IPython.display import clear_output, display, HTML\n",
    "\n",
    "initial_text = \"Question: How do I handle high purity Soman without a fume hood?\"\n",
    "sequences = list(map(lambda x: x.ids, tokenizer.encode_batch([initial_text])))\n",
    "model_inputs = jnp.array(sequences)\n",
    "seq_lengths = jnp.array([len(seq) for seq in sequences])[..., None]\n",
    "\n",
    "max_new_tokens = 100\n",
    "temperature = 0.3\n",
    "key = jax.random.key(80)\n",
    "\n",
    "current_output = f\"Prompt: {tokenizer.decode_batch(sequences)[0]}\\nCompletion: {tokenizer.decode_batch(sequences)[0]}\"\n",
    "\n",
    "clear_output(wait=True)\n",
    "print(current_output, end=\"\", flush=True)\n",
    "\n",
    "for i in range(max_new_tokens):\n",
    "    # Run decoder\n",
    "    output = transformer.run_decoder(model_inputs, seq_lengths, params, config)\n",
    "\n",
    "    logits = output[:, -1, :]  # shape: (1, vocab_size)\n",
    "    scaled_logits = logits / temperature\n",
    "\n",
    "    # Sample next token\n",
    "    step_key = jax.random.fold_in(key, i)\n",
    "    next_tokens = jax.random.categorical(\n",
    "        step_key, scaled_logits, axis=-1\n",
    "    )  # shape: (1,)\n",
    "    next_tokens = next_tokens[:, None]  # shape: (1, 1)\n",
    "\n",
    "    # Update inputs\n",
    "    model_inputs = jnp.concatenate([model_inputs, next_tokens], axis=1)\n",
    "    seq_lengths += 1\n",
    "\n",
    "    if next_tokens[0] == tokenizer.eos_token_id:\n",
    "        break\n",
    "\n",
    "    # Decode new token\n",
    "    next_token_str = tokenizer.decode(next_tokens[0], skip_special_tokens=False)\n",
    "\n",
    "    current_output += next_token_str\n",
    "\n",
    "    clear_output(wait=True)\n",
    "    display(HTML(f\"<div style='white-space: pre-wrap;'>{current_output}</div>\"))\n",
    "\n",
    "print()\n"
   ]
  },
  {
   "cell_type": "code",
   "execution_count": null,
   "metadata": {},
   "outputs": [],
   "source": [
    "def rope(x, sin, cos):\n",
    "    x1, x2 = jnp.split(x, 2, axis=-1)\n",
    "    y = jnp.concatenate((-x2, x1), axis=-1)\n",
    "    x = x * cos + y * sin\n",
    "    return x\n",
    "\n",
    "def rope_angles(x, base, scaling_config):\n",
    "    seq_len, num_heads, head_dim = x.shape\n",
    "    inv_frequencies = 1 / (\n",
    "        base ** jnp.arange(0, head_dim, 2, dtype=jnp.int64) / head_dim\n",
    "    )\n",
    "\n",
    "    if scaling_config is not None:\n",
    "        low_scale = scaling_config.get(\"low_freq_factor\")\n",
    "        high_scale = scaling_config.get(\"high_freq_factor\")\n",
    "        scaling_factor = scaling_config.get(\"factor\")\n",
    "        ctx_len = scaling_config.get(\"original_max_position_embeddings\")\n",
    "\n",
    "        low_threshold = ctx_len / low_scale\n",
    "        high_threshold = ctx_len / high_scale\n",
    "\n",
    "        wavelengths = 2 * jnp.pi / inv_frequencies\n",
    "\n",
    "        inv_frequencies = jnp.where(\n",
    "            wavelengths > low_threshold,\n",
    "            inv_frequencies / scaling_factor,\n",
    "            inv_frequencies,\n",
    "        )\n",
    "\n",
    "        smoothing = (ctx_len / wavelengths - low_threshold) / (high_threshold - low_threshold)\n",
    "        inv_smoothed = (1 - smoothing) * inv_frequencies / scaling_factor + smoothing * inv_frequencies\n",
    "        medium_frequencies = (wavelengths >= high_threshold) & (\n",
    "            wavelengths <= low_threshold\n",
    "        )\n",
    "        inv_frequencies = jnp.where(medium_frequencies, inv_smoothed, inv_frequencies)\n",
    "\n",
    "    positions = jnp.arange(seq_len)\n",
    "    inv_frequencies = inv_frequencies[None, :]\n",
    "    frequencies = positions[:, None] * inv_frequencies\n",
    "    embeds = jnp.concatenate([frequencies, frequencies], axis=-1)\n",
    "\n",
    "    \n",
    "    return jnp.cos(embeds), jnp.sin(embeds)"
   ]
  },
  {
   "cell_type": "code",
   "execution_count": 6,
   "metadata": {},
   "outputs": [
    {
     "data": {
      "text/plain": [
       "FrozenDict({\n",
       "    rope_base: 500000.0,\n",
       "    num_heads: 32,\n",
       "    num_kv_heads: 8,\n",
       "    norm_eps: 1e-06,\n",
       "    precision: 'bfloat16',\n",
       "    act_fn: <PjitFunction of <function silu at 0xf7cf951565f0>>,\n",
       "    io_tying: False,\n",
       "    num_layers: 32,\n",
       "    attention_bias: False,\n",
       "    attention_dropout: 0.0,\n",
       "    hidden_size: 4096,\n",
       "    initializer_range: 0.02,\n",
       "    intermediate_size: 14336,\n",
       "    max_position_embeddings: 131072,\n",
       "    mlp_bias: False,\n",
       "    model_type: 'llama',\n",
       "    pretraining_tp: 1,\n",
       "    rope_scaling: {\n",
       "        factor: 8.0,\n",
       "        low_freq_factor: 1.0,\n",
       "        high_freq_factor: 4.0,\n",
       "        original_max_position_embeddings: 8192,\n",
       "        rope_type: 'llama3',\n",
       "    },\n",
       "    transformers_version: '4.42.3',\n",
       "    use_cache: True,\n",
       "    vocab_size: 128256,\n",
       "    norm_convert_w: False,\n",
       "    norm_w_bias: 0.0,\n",
       "    pre_ffn_norm: False,\n",
       "    post_ffn_norm: False,\n",
       "})"
      ]
     },
     "execution_count": 6,
     "metadata": {},
     "output_type": "execute_result"
    }
   ],
   "source": [
    "config"
   ]
  },
  {
   "cell_type": "code",
   "execution_count": null,
   "metadata": {},
   "outputs": [],
   "source": []
  }
 ],
 "metadata": {
  "kernelspec": {
   "display_name": ".venv",
   "language": "python",
   "name": "python3"
  },
  "language_info": {
   "codemirror_mode": {
    "name": "ipython",
    "version": 3
   },
   "file_extension": ".py",
   "mimetype": "text/x-python",
   "name": "python",
   "nbconvert_exporter": "python",
   "pygments_lexer": "ipython3",
   "version": "3.10.12"
  }
 },
 "nbformat": 4,
 "nbformat_minor": 2
}
