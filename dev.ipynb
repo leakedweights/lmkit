{
 "cells": [
  {
   "cell_type": "code",
   "execution_count": 1,
   "metadata": {},
   "outputs": [],
   "source": [
    "%load_ext autoreload\n",
    "%autoreload 2"
   ]
  },
  {
   "cell_type": "code",
   "execution_count": 2,
   "metadata": {},
   "outputs": [
    {
     "name": "stderr",
     "output_type": "stream",
     "text": [
      "Loading safetensors: 100%|██████████| 4/4 [06:40<00:00, 100.15s/it]\n"
     ]
    }
   ],
   "source": [
    "import os\n",
    "import jax.numpy as jnp\n",
    "\n",
    "from lmkit.model import transformer, config as config_lib\n",
    "from lmkit.tools import compat\n",
    "\n",
    "repo = \"meta-llama/Meta-Llama-3-8B-Instruct\"\n",
    "model_dir = \"models/llama3\"\n",
    "\n",
    "if not os.path.exists(model_dir) or not os.listdir(model_dir):\n",
    "    from dotenv import load_dotenv\n",
    "    load_dotenv()\n",
    "\n",
    "    compat.from_hf(repo, model_dir, token=os.environ[\"HF_API_TOKEN\"])\n",
    "\n",
    "params = compat.params_to_lmkit(compat.gather_for_jax(model_dir))\n",
    "config = compat.load_lmkit_config(f\"{model_dir}/config.json\")\n",
    "config = config_lib.extend_llama(config)\n",
    "\n",
    "tokenizer = compat.load_lmkit_tokenizer(\n",
    "    f\"{model_dir}/tokenizer.json\", f\"{model_dir}/generation_config.json\"\n",
    ")\n"
   ]
  },
  {
   "cell_type": "code",
   "execution_count": 137,
   "metadata": {},
   "outputs": [
    {
     "data": {
      "text/plain": [
       "(128256, 4096)"
      ]
     },
     "execution_count": 137,
     "metadata": {},
     "output_type": "execute_result"
    }
   ],
   "source": [
    "params[\"embed_table\"].shape"
   ]
  },
  {
   "cell_type": "code",
   "execution_count": null,
   "metadata": {},
   "outputs": [
    {
     "name": "stdout",
     "output_type": "stream",
     "text": [
      "[[ 0  1  2  3  4  5  6  7]\n",
      " [ 0  1  2  3  4  5 -1 -1]]\n"
     ]
    },
    {
     "data": {
      "text/plain": [
       "(2, 8, 128256)"
      ]
     },
     "execution_count": 170,
     "metadata": {},
     "output_type": "execute_result"
    }
   ],
   "source": [
    "import jax\n",
    "import jax.numpy as jnp\n",
    "from einops import rearrange\n",
    "\n",
    "def rms_norm(x, weight, eps=1e-6):\n",
    "    orig_dtype = x.dtype\n",
    "    x = x.astype(jnp.float32)\n",
    "    normed = x * jax.lax.rsqrt(jnp.mean(x**2, axis=-1, keepdims=True) + eps)\n",
    "    out = weight * normed.astype(orig_dtype)\n",
    "    return out\n",
    "\n",
    "def ffn(x, params, act_fn):\n",
    "    gate = x @ params[\"W_gate\"]\n",
    "    act = act_fn(gate)\n",
    "    up = x @ params[\"W_up\"]\n",
    "    output = (act * up) @ params[\"W_down\"]\n",
    "    return output\n",
    "\n",
    "\n",
    "def build_rope(positions, head_dim, base):\n",
    "    if head_dim % 2 != 0:\n",
    "        raise ValueError(f\"head_dim must be even, got {head_dim}\")\n",
    "\n",
    "    inv_freq = 1.0 / (\n",
    "        base ** (jnp.arange(0, head_dim, 2, dtype=jnp.float32) / head_dim)\n",
    "    )\n",
    "    positions = positions.astype(jnp.float32)\n",
    "    freqs = positions[:, :, None] * inv_freq[None, None, :]\n",
    "    emb = jnp.concatenate((freqs, freqs), axis=-1)\n",
    "\n",
    "    pad_mask = positions >= 0\n",
    "    pad_mask = pad_mask[:, :, None].repeat(head_dim, axis=-1)\n",
    "    emb = jnp.where(pad_mask, emb, 0.0)\n",
    "\n",
    "    sin_values = jnp.sin(emb)\n",
    "    cos_values = jnp.cos(emb)\n",
    "\n",
    "    return sin_values, cos_values\n",
    "\n",
    "\n",
    "def rotate_half(x):\n",
    "    x1 = x[..., : x.shape[-1] // 2]\n",
    "    x2 = x[..., x.shape[-1] // 2 :]\n",
    "    return jnp.concatenate((-x2, x1), axis=-1)\n",
    "\n",
    "\n",
    "def rope(x, sin, cos):\n",
    "    if x.ndim == 4 and sin.ndim == 3:\n",
    "        sin = sin[:, :, None, :]\n",
    "        cos = cos[:, :, None, :]\n",
    "    elif x.ndim > sin.ndim and x.shape[-1] == sin.shape[-1]:\n",
    "        num_broadcast_dims = x.ndim - sin.ndim\n",
    "        new_shape = list(sin.shape)\n",
    "        for _ in range(num_broadcast_dims):\n",
    "            new_shape.insert(-1, 1) \n",
    "        sin = jnp.reshape(sin, new_shape)\n",
    "        cos = jnp.reshape(cos, new_shape)\n",
    "        if sin.shape[:-1] != x.shape[:-1] or cos.shape[:-1] != x.shape[:-1]:\n",
    "            try:\n",
    "                sin = sin[..., None, :]\n",
    "                cos = cos[..., None, :]\n",
    "            except IndexError:\n",
    "                raise ValueError(\n",
    "                    f\"Cannot broadcast sin/cos shapes {sin.shape} to x shape {x.shape}\"\n",
    "                )\n",
    "\n",
    "    rotated_x = (x * cos) + (rotate_half(x) * sin)\n",
    "    return rotated_x.astype(x.dtype)\n",
    "\n",
    "def attention(inputs, positions, params, config):\n",
    "    head_dim = config[\"hidden_dim\"] // config[\"num_heads\"]\n",
    "    seq_lens = jnp.sum(positions >= 0, axis=-1).astype(jnp.int32)\n",
    "    sin, cos = build_rope(positions, head_dim, config[\"rope_base\"])\n",
    "    \n",
    "\n",
    "    query = inputs @ params[\"W_q\"]\n",
    "    key = inputs @ params[\"W_k\"]\n",
    "    value = inputs @ params[\"W_v\"]\n",
    "    \n",
    "    query = rearrange(query, \"... t (n h) -> ... t n h\", n=config[\"num_heads\"])\n",
    "    query = rope(query, sin, cos)\n",
    "    key = rearrange(key, \"... t (n h) -> ... t n h\", n=config[\"num_kv_heads\"])\n",
    "    key = rope(key, sin, cos)\n",
    "    value = rearrange(value, \"... t (n h) -> ... t n h\", n=config[\"num_kv_heads\"])\n",
    "\n",
    "    x = jax.nn.dot_product_attention(\n",
    "        query=query,\n",
    "        key=key,\n",
    "        value=value,\n",
    "        is_causal=True,\n",
    "        query_seq_lengths=seq_lens,\n",
    "        key_value_seq_lengths=seq_lens,\n",
    "        implementation=\"cudnn\",\n",
    "    )\n",
    "\n",
    "    x = rearrange(x, \"... t n h -> ... t (n h)\")\n",
    "    x = x @ params[\"W_o\"]\n",
    "\n",
    "    return x\n",
    "\n",
    "def run(inputs, positions, params, config):\n",
    "    x = jnp.take(params[\"embed_table\"], inputs, axis=0, fill_value=-1e6)\n",
    "\n",
    "    for i, layer_params in enumerate(params[\"layers\"]):\n",
    "        y = rms_norm(x, layer_params[\"input_norm\"], eps=config[\"norm_eps\"])\n",
    "        attn_out = attention(y, positions, layer_params[\"attn\"], config)\n",
    "        x = x + attn_out\n",
    "        y = rms_norm(x, layer_params[\"post_attn_norm\"], eps=config[\"norm_eps\"])\n",
    "        ffn_out = ffn(y, layer_params[\"ffn\"], config[\"act_fn\"])\n",
    "        x = x + ffn_out\n",
    "\n",
    "    x = rms_norm(x, params[\"out_norm\"], eps=config[\"norm_eps\"])\n",
    "    logits = x @ params[\"lm_head\"]\n",
    "    return logits\n",
    "\n",
    "texts = [\"What is the capital of the United\", \"How are you today?\"]\n",
    "batch_size = len(texts)\n",
    "tokens = jnp.array(list(map(lambda x: x.ids, tokenizer.encode_batch_fast(texts))))\n",
    "\n",
    "positions = -jnp.ones(tokens.shape).astype(jnp.int32)\n",
    "positions = jnp.where(tokens != tokenizer.pad_token_id, jnp.arange(positions.shape[-1]), -1)\n",
    "\n",
    "print(positions)\n",
    "\n",
    "logits = run(tokens, positions, params, config)\n",
    "\n",
    "logits.shape"
   ]
  },
  {
   "cell_type": "code",
   "execution_count": 231,
   "metadata": {},
   "outputs": [
    {
     "data": {
      "text/plain": [
       "Array([[ 0,  1,  2,  3,  4,  5,  6],\n",
       "       [ 0,  1,  2,  3,  4, -1, -1]], dtype=int32)"
      ]
     },
     "execution_count": 231,
     "metadata": {},
     "output_type": "execute_result"
    }
   ],
   "source": [
    "def expand_or_set_indices(arr, indices, fill):\n",
    "    while jnp.max(indices) >= arr.shape[-1]:\n",
    "        filler = fill * jnp.ones((*arr.shape[:-1], 1))\n",
    "        arr = jnp.concatenate([arr, filler], axis=-1).astype(arr.dtype)\n",
    "    arr = arr.at[jnp.arange(arr.shape[0]), indices].set(indices)\n",
    "    return arr\n",
    "\n",
    "expand_or_set_indices(jnp.array([[0,1,2,3,4,5], [0,1,2,3,-1,-1]]), jnp.array([6, 4]), -1)"
   ]
  },
  {
   "cell_type": "code",
   "execution_count": 237,
   "metadata": {},
   "outputs": [
    {
     "data": {
      "application/vnd.jupyter.widget-view+json": {
       "model_id": "958880b32d874aa1938615654c08ce7c",
       "version_major": 2,
       "version_minor": 0
      },
      "text/plain": [
       "  0%|          | 0/30 [00:00<?, ?it/s]"
      ]
     },
     "metadata": {},
     "output_type": "display_data"
    },
    {
     "data": {
      "text/plain": [
       "[\"What is New York's most popular tourist destination?\\nThe Statue of Liberty and Ellis Island are among the most popular tourist destinations in New York City. However, the most popular tourist\",\n",
       " 'What is the capital city of the United States of America?\\nA. Washington D.C.\\nB. New York City\\nC. Los Angeles\\nD. Chicago\\nAnswer: A\\nExplanation: The']"
      ]
     },
     "execution_count": 237,
     "metadata": {},
     "output_type": "execute_result"
    }
   ],
   "source": [
    "from tqdm.auto import tqdm\n",
    "\n",
    "def expand_and_set(arr, indices, values, fill):\n",
    "    while jnp.max(indices) >= arr.shape[-1]:\n",
    "        filler = fill * jnp.ones((*arr.shape[:-1], 1))\n",
    "        arr = jnp.concatenate([arr, filler], axis=-1).astype(arr.dtype)\n",
    "    arr = arr.at[jnp.arange(arr.shape[0]), indices].set(values)\n",
    "    return arr\n",
    "\n",
    "\n",
    "def generate(inputs, max_new_tokens, tokenizer, params, config):\n",
    "    batch_size = len(inputs)\n",
    "\n",
    "    encodings = tokenizer.encode_batch_fast(inputs)\n",
    "    tokens = jnp.array([enc.ids for enc in encodings])\n",
    "    positions = jnp.where(tokens != tokenizer.pad_token_id, jnp.arange(tokens.shape[-1]), -1)\n",
    "    seq_lens = jnp.sum(positions >= 0, axis=-1)\n",
    "\n",
    "    model_inputs = tokens\n",
    "\n",
    "    for step in tqdm(range(max_new_tokens)):\n",
    "        logits = run(model_inputs, positions, params, config)\n",
    "        next_token_logits = logits[jnp.arange(batch_size), seq_lens-1, :]\n",
    "        next_tokens = jnp.argmax(next_token_logits, axis=-1)\n",
    "\n",
    "        model_inputs = expand_and_set(model_inputs, seq_lens, next_tokens, fill=-1)\n",
    "        positions = expand_and_set(positions, seq_lens, seq_lens, fill=-1)\n",
    "        seq_lens += 1\n",
    "\n",
    "    return tokenizer.decode_batch(jnp.where(model_inputs >= 0, model_inputs, tokenizer.pad_token_id))\n",
    "\n",
    "prompts = [\n",
    "    \"What is New York's\",\n",
    "    \"What is the capital city of the United States of\"\n",
    "]\n",
    "\n",
    "generate(prompts, 30, tokenizer, params, config)"
   ]
  }
 ],
 "metadata": {
  "kernelspec": {
   "display_name": ".venv",
   "language": "python",
   "name": "python3"
  },
  "language_info": {
   "codemirror_mode": {
    "name": "ipython",
    "version": 3
   },
   "file_extension": ".py",
   "mimetype": "text/x-python",
   "name": "python",
   "nbconvert_exporter": "python",
   "pygments_lexer": "ipython3",
   "version": "3.10.12"
  }
 },
 "nbformat": 4,
 "nbformat_minor": 2
}
