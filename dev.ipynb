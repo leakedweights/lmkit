{
 "cells": [
  {
   "cell_type": "code",
   "execution_count": 1,
   "metadata": {},
   "outputs": [],
   "source": [
    "%load_ext autoreload\n",
    "%autoreload 2"
   ]
  },
  {
   "cell_type": "code",
   "execution_count": 2,
   "metadata": {},
   "outputs": [
    {
     "name": "stderr",
     "output_type": "stream",
     "text": [
      "Loading safetensors: 100%|██████████| 4/4 [06:40<00:00, 100.15s/it]\n"
     ]
    }
   ],
   "source": [
    "import os\n",
    "import jax.numpy as jnp\n",
    "\n",
    "from lmkit.model import transformer, config as config_lib\n",
    "from lmkit.tools import compat\n",
    "\n",
    "repo = \"meta-llama/Meta-Llama-3-8B-Instruct\"\n",
    "model_dir = \"models/llama3\"\n",
    "\n",
    "if not os.path.exists(model_dir) or not os.listdir(model_dir):\n",
    "    from dotenv import load_dotenv\n",
    "    load_dotenv()\n",
    "\n",
    "    compat.from_hf(repo, model_dir, token=os.environ[\"HF_API_TOKEN\"])\n",
    "\n",
    "params = compat.params_to_lmkit(compat.gather_for_jax(model_dir))\n",
    "config = compat.load_lmkit_config(f\"{model_dir}/config.json\")\n",
    "config = config_lib.extend_llama(config)\n",
    "\n",
    "tokenizer = compat.load_lmkit_tokenizer(\n",
    "    f\"{model_dir}/tokenizer.json\", f\"{model_dir}/generation_config.json\"\n",
    ")\n"
   ]
  },
  {
   "cell_type": "code",
   "execution_count": 130,
   "metadata": {},
   "outputs": [
    {
     "name": "stdout",
     "output_type": "stream",
     "text": [
      "Cuda processing allowed: True\n"
     ]
    },
    {
     "data": {
      "application/vnd.jupyter.widget-view+json": {
       "model_id": "0e168cfc6bae404aad2c5060ce60b2ed",
       "version_major": 2,
       "version_minor": 0
      },
      "text/plain": [
       "  0%|          | 0/7 [00:00<?, ?it/s]"
      ]
     },
     "metadata": {},
     "output_type": "display_data"
    },
    {
     "ename": "TypeError",
     "evalue": "cannot reshape array of shape (1,) (size 1) into shape (2,) (size 2)",
     "output_type": "error",
     "traceback": [
      "\u001b[0;31m---------------------------------------------------------------------------\u001b[0m",
      "\u001b[0;31mJaxStackTraceBeforeTransformation\u001b[0m         Traceback (most recent call last)",
      "File \u001b[0;32m/usr/lib/python3.10/runpy.py:196\u001b[0m, in \u001b[0;36m_run_module_as_main\u001b[0;34m()\u001b[0m\n\u001b[1;32m    195\u001b[0m     sys\u001b[38;5;241m.\u001b[39margv[\u001b[38;5;241m0\u001b[39m] \u001b[38;5;241m=\u001b[39m mod_spec\u001b[38;5;241m.\u001b[39morigin\n\u001b[0;32m--> 196\u001b[0m \u001b[38;5;28;01mreturn\u001b[39;00m _run_code(code, main_globals, \u001b[38;5;28;01mNone\u001b[39;00m,\n\u001b[1;32m    197\u001b[0m                  \u001b[38;5;124m\"\u001b[39m\u001b[38;5;124m__main__\u001b[39m\u001b[38;5;124m\"\u001b[39m, mod_spec)\n",
      "File \u001b[0;32m/usr/lib/python3.10/runpy.py:86\u001b[0m, in \u001b[0;36m_run_code\u001b[0;34m()\u001b[0m\n\u001b[1;32m     79\u001b[0m run_globals\u001b[38;5;241m.\u001b[39mupdate(\u001b[38;5;18m__name__\u001b[39m \u001b[38;5;241m=\u001b[39m mod_name,\n\u001b[1;32m     80\u001b[0m                    \u001b[38;5;18m__file__\u001b[39m \u001b[38;5;241m=\u001b[39m fname,\n\u001b[1;32m     81\u001b[0m                    __cached__ \u001b[38;5;241m=\u001b[39m cached,\n\u001b[0;32m   (...)\u001b[0m\n\u001b[1;32m     84\u001b[0m                    __package__ \u001b[38;5;241m=\u001b[39m pkg_name,\n\u001b[1;32m     85\u001b[0m                    __spec__ \u001b[38;5;241m=\u001b[39m mod_spec)\n\u001b[0;32m---> 86\u001b[0m exec(code, run_globals)\n\u001b[1;32m     87\u001b[0m \u001b[38;5;28;01mreturn\u001b[39;00m run_globals\n",
      "File \u001b[0;32m~/lmkit/lmkit/.venv/lib/python3.10/site-packages/ipykernel_launcher.py:18\u001b[0m\n\u001b[1;32m     16\u001b[0m \u001b[38;5;28;01mfrom\u001b[39;00m\u001b[38;5;250m \u001b[39m\u001b[38;5;21;01mipykernel\u001b[39;00m\u001b[38;5;250m \u001b[39m\u001b[38;5;28;01mimport\u001b[39;00m kernelapp \u001b[38;5;28;01mas\u001b[39;00m app\n\u001b[0;32m---> 18\u001b[0m app\u001b[38;5;241m.\u001b[39mlaunch_new_instance()\n",
      "File \u001b[0;32m~/lmkit/lmkit/.venv/lib/python3.10/site-packages/traitlets/config/application.py:1075\u001b[0m, in \u001b[0;36mlaunch_instance\u001b[0;34m()\u001b[0m\n\u001b[1;32m   1074\u001b[0m app\u001b[38;5;241m.\u001b[39minitialize(argv)\n\u001b[0;32m-> 1075\u001b[0m app\u001b[38;5;241m.\u001b[39mstart()\n",
      "File \u001b[0;32m~/lmkit/lmkit/.venv/lib/python3.10/site-packages/ipykernel/kernelapp.py:739\u001b[0m, in \u001b[0;36mstart\u001b[0;34m()\u001b[0m\n\u001b[1;32m    738\u001b[0m \u001b[38;5;28;01mtry\u001b[39;00m:\n\u001b[0;32m--> 739\u001b[0m     \u001b[38;5;28mself\u001b[39m\u001b[38;5;241m.\u001b[39mio_loop\u001b[38;5;241m.\u001b[39mstart()\n\u001b[1;32m    740\u001b[0m \u001b[38;5;28;01mexcept\u001b[39;00m \u001b[38;5;167;01mKeyboardInterrupt\u001b[39;00m:\n",
      "File \u001b[0;32m~/lmkit/lmkit/.venv/lib/python3.10/site-packages/tornado/platform/asyncio.py:205\u001b[0m, in \u001b[0;36mstart\u001b[0;34m()\u001b[0m\n\u001b[1;32m    204\u001b[0m \u001b[38;5;28;01mdef\u001b[39;00m\u001b[38;5;250m \u001b[39m\u001b[38;5;21mstart\u001b[39m(\u001b[38;5;28mself\u001b[39m) \u001b[38;5;241m-\u001b[39m\u001b[38;5;241m>\u001b[39m \u001b[38;5;28;01mNone\u001b[39;00m:\n\u001b[0;32m--> 205\u001b[0m     \u001b[38;5;28mself\u001b[39m\u001b[38;5;241m.\u001b[39masyncio_loop\u001b[38;5;241m.\u001b[39mrun_forever()\n",
      "File \u001b[0;32m/usr/lib/python3.10/asyncio/base_events.py:603\u001b[0m, in \u001b[0;36mrun_forever\u001b[0;34m()\u001b[0m\n\u001b[1;32m    602\u001b[0m \u001b[38;5;28;01mwhile\u001b[39;00m \u001b[38;5;28;01mTrue\u001b[39;00m:\n\u001b[0;32m--> 603\u001b[0m     \u001b[38;5;28mself\u001b[39m\u001b[38;5;241m.\u001b[39m_run_once()\n\u001b[1;32m    604\u001b[0m     \u001b[38;5;28;01mif\u001b[39;00m \u001b[38;5;28mself\u001b[39m\u001b[38;5;241m.\u001b[39m_stopping:\n",
      "File \u001b[0;32m/usr/lib/python3.10/asyncio/base_events.py:1909\u001b[0m, in \u001b[0;36m_run_once\u001b[0;34m()\u001b[0m\n\u001b[1;32m   1908\u001b[0m     \u001b[38;5;28;01melse\u001b[39;00m:\n\u001b[0;32m-> 1909\u001b[0m         handle\u001b[38;5;241m.\u001b[39m_run()\n\u001b[1;32m   1910\u001b[0m handle \u001b[38;5;241m=\u001b[39m \u001b[38;5;28;01mNone\u001b[39;00m\n",
      "File \u001b[0;32m/usr/lib/python3.10/asyncio/events.py:80\u001b[0m, in \u001b[0;36m_run\u001b[0;34m()\u001b[0m\n\u001b[1;32m     79\u001b[0m \u001b[38;5;28;01mtry\u001b[39;00m:\n\u001b[0;32m---> 80\u001b[0m     \u001b[38;5;28mself\u001b[39m\u001b[38;5;241m.\u001b[39m_context\u001b[38;5;241m.\u001b[39mrun(\u001b[38;5;28mself\u001b[39m\u001b[38;5;241m.\u001b[39m_callback, \u001b[38;5;241m*\u001b[39m\u001b[38;5;28mself\u001b[39m\u001b[38;5;241m.\u001b[39m_args)\n\u001b[1;32m     81\u001b[0m \u001b[38;5;28;01mexcept\u001b[39;00m (\u001b[38;5;167;01mSystemExit\u001b[39;00m, \u001b[38;5;167;01mKeyboardInterrupt\u001b[39;00m):\n",
      "File \u001b[0;32m~/lmkit/lmkit/.venv/lib/python3.10/site-packages/ipykernel/kernelbase.py:545\u001b[0m, in \u001b[0;36mdispatch_queue\u001b[0;34m()\u001b[0m\n\u001b[1;32m    544\u001b[0m \u001b[38;5;28;01mtry\u001b[39;00m:\n\u001b[0;32m--> 545\u001b[0m     \u001b[38;5;28;01mawait\u001b[39;00m \u001b[38;5;28mself\u001b[39m\u001b[38;5;241m.\u001b[39mprocess_one()\n\u001b[1;32m    546\u001b[0m \u001b[38;5;28;01mexcept\u001b[39;00m \u001b[38;5;167;01mException\u001b[39;00m:\n",
      "File \u001b[0;32m~/lmkit/lmkit/.venv/lib/python3.10/site-packages/ipykernel/kernelbase.py:534\u001b[0m, in \u001b[0;36mprocess_one\u001b[0;34m()\u001b[0m\n\u001b[1;32m    533\u001b[0m         \u001b[38;5;28;01mreturn\u001b[39;00m\n\u001b[0;32m--> 534\u001b[0m \u001b[38;5;28;01mawait\u001b[39;00m dispatch(\u001b[38;5;241m*\u001b[39margs)\n",
      "File \u001b[0;32m~/lmkit/lmkit/.venv/lib/python3.10/site-packages/ipykernel/kernelbase.py:437\u001b[0m, in \u001b[0;36mdispatch_shell\u001b[0;34m()\u001b[0m\n\u001b[1;32m    436\u001b[0m     \u001b[38;5;28;01mif\u001b[39;00m inspect\u001b[38;5;241m.\u001b[39misawaitable(result):\n\u001b[0;32m--> 437\u001b[0m         \u001b[38;5;28;01mawait\u001b[39;00m result\n\u001b[1;32m    438\u001b[0m \u001b[38;5;28;01mexcept\u001b[39;00m \u001b[38;5;167;01mException\u001b[39;00m:\n",
      "File \u001b[0;32m~/lmkit/lmkit/.venv/lib/python3.10/site-packages/ipykernel/ipkernel.py:362\u001b[0m, in \u001b[0;36mexecute_request\u001b[0;34m()\u001b[0m\n\u001b[1;32m    361\u001b[0m \u001b[38;5;28mself\u001b[39m\u001b[38;5;241m.\u001b[39m_associate_new_top_level_threads_with(parent_header)\n\u001b[0;32m--> 362\u001b[0m \u001b[38;5;28;01mawait\u001b[39;00m \u001b[38;5;28msuper\u001b[39m()\u001b[38;5;241m.\u001b[39mexecute_request(stream, ident, parent)\n",
      "File \u001b[0;32m~/lmkit/lmkit/.venv/lib/python3.10/site-packages/ipykernel/kernelbase.py:778\u001b[0m, in \u001b[0;36mexecute_request\u001b[0;34m()\u001b[0m\n\u001b[1;32m    777\u001b[0m \u001b[38;5;28;01mif\u001b[39;00m inspect\u001b[38;5;241m.\u001b[39misawaitable(reply_content):\n\u001b[0;32m--> 778\u001b[0m     reply_content \u001b[38;5;241m=\u001b[39m \u001b[38;5;28;01mawait\u001b[39;00m reply_content\n\u001b[1;32m    780\u001b[0m \u001b[38;5;66;03m# Flush output before sending the reply.\u001b[39;00m\n",
      "File \u001b[0;32m~/lmkit/lmkit/.venv/lib/python3.10/site-packages/ipykernel/ipkernel.py:449\u001b[0m, in \u001b[0;36mdo_execute\u001b[0;34m()\u001b[0m\n\u001b[1;32m    448\u001b[0m \u001b[38;5;28;01mif\u001b[39;00m accepts_params[\u001b[38;5;124m\"\u001b[39m\u001b[38;5;124mcell_id\u001b[39m\u001b[38;5;124m\"\u001b[39m]:\n\u001b[0;32m--> 449\u001b[0m     res \u001b[38;5;241m=\u001b[39m shell\u001b[38;5;241m.\u001b[39mrun_cell(\n\u001b[1;32m    450\u001b[0m         code,\n\u001b[1;32m    451\u001b[0m         store_history\u001b[38;5;241m=\u001b[39mstore_history,\n\u001b[1;32m    452\u001b[0m         silent\u001b[38;5;241m=\u001b[39msilent,\n\u001b[1;32m    453\u001b[0m         cell_id\u001b[38;5;241m=\u001b[39mcell_id,\n\u001b[1;32m    454\u001b[0m     )\n\u001b[1;32m    455\u001b[0m \u001b[38;5;28;01melse\u001b[39;00m:\n",
      "File \u001b[0;32m~/lmkit/lmkit/.venv/lib/python3.10/site-packages/ipykernel/zmqshell.py:549\u001b[0m, in \u001b[0;36mrun_cell\u001b[0;34m()\u001b[0m\n\u001b[1;32m    548\u001b[0m \u001b[38;5;28mself\u001b[39m\u001b[38;5;241m.\u001b[39m_last_traceback \u001b[38;5;241m=\u001b[39m \u001b[38;5;28;01mNone\u001b[39;00m\n\u001b[0;32m--> 549\u001b[0m \u001b[38;5;28;01mreturn\u001b[39;00m \u001b[38;5;28msuper\u001b[39m()\u001b[38;5;241m.\u001b[39mrun_cell(\u001b[38;5;241m*\u001b[39margs, \u001b[38;5;241m*\u001b[39m\u001b[38;5;241m*\u001b[39mkwargs)\n",
      "File \u001b[0;32m~/lmkit/lmkit/.venv/lib/python3.10/site-packages/IPython/core/interactiveshell.py:3077\u001b[0m, in \u001b[0;36mrun_cell\u001b[0;34m()\u001b[0m\n\u001b[1;32m   3076\u001b[0m \u001b[38;5;28;01mtry\u001b[39;00m:\n\u001b[0;32m-> 3077\u001b[0m     result \u001b[38;5;241m=\u001b[39m \u001b[38;5;28mself\u001b[39m\u001b[38;5;241m.\u001b[39m_run_cell(\n\u001b[1;32m   3078\u001b[0m         raw_cell, store_history, silent, shell_futures, cell_id\n\u001b[1;32m   3079\u001b[0m     )\n\u001b[1;32m   3080\u001b[0m \u001b[38;5;28;01mfinally\u001b[39;00m:\n",
      "File \u001b[0;32m~/lmkit/lmkit/.venv/lib/python3.10/site-packages/IPython/core/interactiveshell.py:3132\u001b[0m, in \u001b[0;36m_run_cell\u001b[0;34m()\u001b[0m\n\u001b[1;32m   3131\u001b[0m \u001b[38;5;28;01mtry\u001b[39;00m:\n\u001b[0;32m-> 3132\u001b[0m     result \u001b[38;5;241m=\u001b[39m runner(coro)\n\u001b[1;32m   3133\u001b[0m \u001b[38;5;28;01mexcept\u001b[39;00m \u001b[38;5;167;01mBaseException\u001b[39;00m \u001b[38;5;28;01mas\u001b[39;00m e:\n",
      "File \u001b[0;32m~/lmkit/lmkit/.venv/lib/python3.10/site-packages/IPython/core/async_helpers.py:128\u001b[0m, in \u001b[0;36m_pseudo_sync_runner\u001b[0;34m()\u001b[0m\n\u001b[1;32m    127\u001b[0m \u001b[38;5;28;01mtry\u001b[39;00m:\n\u001b[0;32m--> 128\u001b[0m     coro\u001b[38;5;241m.\u001b[39msend(\u001b[38;5;28;01mNone\u001b[39;00m)\n\u001b[1;32m    129\u001b[0m \u001b[38;5;28;01mexcept\u001b[39;00m \u001b[38;5;167;01mStopIteration\u001b[39;00m \u001b[38;5;28;01mas\u001b[39;00m exc:\n",
      "File \u001b[0;32m~/lmkit/lmkit/.venv/lib/python3.10/site-packages/IPython/core/interactiveshell.py:3336\u001b[0m, in \u001b[0;36mrun_cell_async\u001b[0;34m()\u001b[0m\n\u001b[1;32m   3333\u001b[0m interactivity \u001b[38;5;241m=\u001b[39m \u001b[38;5;124m\"\u001b[39m\u001b[38;5;124mnone\u001b[39m\u001b[38;5;124m\"\u001b[39m \u001b[38;5;28;01mif\u001b[39;00m silent \u001b[38;5;28;01melse\u001b[39;00m \u001b[38;5;28mself\u001b[39m\u001b[38;5;241m.\u001b[39mast_node_interactivity\n\u001b[0;32m-> 3336\u001b[0m has_raised \u001b[38;5;241m=\u001b[39m \u001b[38;5;28;01mawait\u001b[39;00m \u001b[38;5;28mself\u001b[39m\u001b[38;5;241m.\u001b[39mrun_ast_nodes(code_ast\u001b[38;5;241m.\u001b[39mbody, cell_name,\n\u001b[1;32m   3337\u001b[0m        interactivity\u001b[38;5;241m=\u001b[39minteractivity, compiler\u001b[38;5;241m=\u001b[39mcompiler, result\u001b[38;5;241m=\u001b[39mresult)\n\u001b[1;32m   3339\u001b[0m \u001b[38;5;28mself\u001b[39m\u001b[38;5;241m.\u001b[39mlast_execution_succeeded \u001b[38;5;241m=\u001b[39m \u001b[38;5;129;01mnot\u001b[39;00m has_raised\n",
      "File \u001b[0;32m~/lmkit/lmkit/.venv/lib/python3.10/site-packages/IPython/core/interactiveshell.py:3519\u001b[0m, in \u001b[0;36mrun_ast_nodes\u001b[0;34m()\u001b[0m\n\u001b[1;32m   3518\u001b[0m     asy \u001b[38;5;241m=\u001b[39m compare(code)\n\u001b[0;32m-> 3519\u001b[0m \u001b[38;5;28;01mif\u001b[39;00m \u001b[38;5;28;01mawait\u001b[39;00m \u001b[38;5;28mself\u001b[39m\u001b[38;5;241m.\u001b[39mrun_code(code, result, async_\u001b[38;5;241m=\u001b[39masy):\n\u001b[1;32m   3520\u001b[0m     \u001b[38;5;28;01mreturn\u001b[39;00m \u001b[38;5;28;01mTrue\u001b[39;00m\n",
      "File \u001b[0;32m~/lmkit/lmkit/.venv/lib/python3.10/site-packages/IPython/core/interactiveshell.py:3579\u001b[0m, in \u001b[0;36mrun_code\u001b[0;34m()\u001b[0m\n\u001b[1;32m   3578\u001b[0m     \u001b[38;5;28;01melse\u001b[39;00m:\n\u001b[0;32m-> 3579\u001b[0m         exec(code_obj, \u001b[38;5;28mself\u001b[39m\u001b[38;5;241m.\u001b[39muser_global_ns, \u001b[38;5;28mself\u001b[39m\u001b[38;5;241m.\u001b[39muser_ns)\n\u001b[1;32m   3580\u001b[0m \u001b[38;5;28;01mfinally\u001b[39;00m:\n\u001b[1;32m   3581\u001b[0m     \u001b[38;5;66;03m# Reset our crash handler in place\u001b[39;00m\n",
      "Cell \u001b[0;32mIn[130], line 55\u001b[0m\n\u001b[1;32m     54\u001b[0m max_new_tokens \u001b[38;5;241m=\u001b[39m \u001b[38;5;241m7\u001b[39m\n\u001b[0;32m---> 55\u001b[0m output_batch \u001b[38;5;241m=\u001b[39m generate(initial_texts, max_new_tokens, tokenizer, params, config)\n\u001b[1;32m     57\u001b[0m \u001b[38;5;28;01mfor\u001b[39;00m batch_item \u001b[38;5;129;01min\u001b[39;00m output_batch:\n",
      "Cell \u001b[0;32mIn[130], line 32\u001b[0m, in \u001b[0;36mgenerate\u001b[0;34m()\u001b[0m\n\u001b[1;32m     31\u001b[0m \u001b[38;5;28;01mfor\u001b[39;00m step \u001b[38;5;129;01min\u001b[39;00m tqdm(\u001b[38;5;28mrange\u001b[39m(max_new_tokens)):\n\u001b[0;32m---> 32\u001b[0m     batch_logits, cache \u001b[38;5;241m=\u001b[39m transformer\u001b[38;5;241m.\u001b[39mrun_decoder(model_inputs, cache, params, config)\n\u001b[1;32m     33\u001b[0m     next_token_ids \u001b[38;5;241m=\u001b[39m [\u001b[38;5;28;01mNone\u001b[39;00m \u001b[38;5;28;01mfor\u001b[39;00m _ \u001b[38;5;129;01min\u001b[39;00m \u001b[38;5;28mrange\u001b[39m(batch_size)]\n",
      "File \u001b[0;32m~/lmkit/lmkit/lmkit/model/transformer.py:174\u001b[0m, in \u001b[0;36mrun_decoder\u001b[0;34m()\u001b[0m\n\u001b[1;32m    173\u001b[0m y \u001b[38;5;241m=\u001b[39m rms_norm(x, layer_params[\u001b[38;5;124m\"\u001b[39m\u001b[38;5;124minput_norm\u001b[39m\u001b[38;5;124m\"\u001b[39m], eps\u001b[38;5;241m=\u001b[39mconfig[\u001b[38;5;124m\"\u001b[39m\u001b[38;5;124mnorm_eps\u001b[39m\u001b[38;5;124m\"\u001b[39m])\n\u001b[0;32m--> 174\u001b[0m attn_out, new_layer_cache \u001b[38;5;241m=\u001b[39m attention(y, layer_params[\u001b[38;5;124m\"\u001b[39m\u001b[38;5;124mattn\u001b[39m\u001b[38;5;124m\"\u001b[39m], cache[i], config)\n\u001b[1;32m    175\u001b[0m layer_caches\u001b[38;5;241m.\u001b[39mappend(new_layer_cache)\n",
      "File \u001b[0;32m~/lmkit/lmkit/lmkit/model/transformer.py:150\u001b[0m, in \u001b[0;36mattention\u001b[0;34m()\u001b[0m\n\u001b[1;32m    148\u001b[0m     full_value \u001b[38;5;241m=\u001b[39m value\n\u001b[0;32m--> 150\u001b[0m x \u001b[38;5;241m=\u001b[39m jax\u001b[38;5;241m.\u001b[39mnn\u001b[38;5;241m.\u001b[39mdot_product_attention(\n\u001b[1;32m    151\u001b[0m     query\u001b[38;5;241m=\u001b[39mquery,\n\u001b[1;32m    152\u001b[0m     key\u001b[38;5;241m=\u001b[39mfull_key,\n\u001b[1;32m    153\u001b[0m     value\u001b[38;5;241m=\u001b[39mfull_value,\n\u001b[1;32m    154\u001b[0m     is_causal\u001b[38;5;241m=\u001b[39m\u001b[38;5;28;01mTrue\u001b[39;00m,\n\u001b[1;32m    155\u001b[0m     query_seq_lengths\u001b[38;5;241m=\u001b[39m[query\u001b[38;5;241m.\u001b[39mshape[\u001b[38;5;241m0\u001b[39m]],\n\u001b[1;32m    156\u001b[0m     key_value_seq_lengths\u001b[38;5;241m=\u001b[39m[effective_seq_len],\n\u001b[1;32m    157\u001b[0m     implementation\u001b[38;5;241m=\u001b[39mattn_impl,\n\u001b[1;32m    158\u001b[0m )\n\u001b[1;32m    160\u001b[0m x \u001b[38;5;241m=\u001b[39m rearrange(x, \u001b[38;5;124m\"\u001b[39m\u001b[38;5;124mt n h -> t (n h)\u001b[39m\u001b[38;5;124m\"\u001b[39m)\n",
      "File \u001b[0;32m~/lmkit/lmkit/.venv/lib/python3.10/site-packages/jax/_src/nn/functions.py:1170\u001b[0m, in \u001b[0;36mdot_product_attention\u001b[0;34m()\u001b[0m\n\u001b[1;32m   1167\u001b[0m       \u001b[38;5;28;01mraise\u001b[39;00m \u001b[38;5;167;01mValueError\u001b[39;00m(\u001b[38;5;124mf\u001b[39m\u001b[38;5;124m\"\u001b[39m\u001b[38;5;124mcuDNN doesn\u001b[39m\u001b[38;5;124m'\u001b[39m\u001b[38;5;124mt support right window: \u001b[39m\u001b[38;5;132;01m{\u001b[39;00mr_window\u001b[38;5;132;01m}\u001b[39;00m\u001b[38;5;124m \u001b[39m\u001b[38;5;124m\"\u001b[39m\n\u001b[1;32m   1168\u001b[0m                        \u001b[38;5;124m\"\u001b[39m\u001b[38;5;124mwhen causal mask is not used.\u001b[39m\u001b[38;5;124m\"\u001b[39m)\n\u001b[0;32m-> 1170\u001b[0m   out \u001b[38;5;241m=\u001b[39m cudnn_dot_product_attention(\n\u001b[1;32m   1171\u001b[0m       query_arr, key_arr, value_arr, bias, mask, query_seq_lengths,\n\u001b[1;32m   1172\u001b[0m       key_value_seq_lengths, scale\u001b[38;5;241m=\u001b[39mscale_val, mask_type\u001b[38;5;241m=\u001b[39mmask_type,\n\u001b[1;32m   1173\u001b[0m       sliding_window_length\u001b[38;5;241m=\u001b[39msliding_window,\n\u001b[1;32m   1174\u001b[0m   )\n\u001b[1;32m   1175\u001b[0m \u001b[38;5;28;01mcase\u001b[39;00m \u001b[38;5;28;01mNone\u001b[39;00m:\n\u001b[1;32m   1176\u001b[0m   \u001b[38;5;66;03m# TODO(kaixih@nvidia) Defaults to XLA for now. Will automatically select\u001b[39;00m\n\u001b[1;32m   1177\u001b[0m   \u001b[38;5;66;03m# best backend.\u001b[39;00m\n",
      "File \u001b[0;32m~/lmkit/lmkit/.venv/lib/python3.10/site-packages/jax/_src/cudnn/fused_attention_stablehlo.py:1851\u001b[0m, in \u001b[0;36mdot_product_attention\u001b[0;34m()\u001b[0m\n\u001b[1;32m   1850\u001b[0m   kv_offsets \u001b[38;5;241m=\u001b[39m jnp\u001b[38;5;241m.\u001b[39mzeros(\u001b[38;5;241m0\u001b[39m, dtype\u001b[38;5;241m=\u001b[39mquery\u001b[38;5;241m.\u001b[39mdtype)\n\u001b[0;32m-> 1851\u001b[0m output \u001b[38;5;241m=\u001b[39m _dot_product_attention(\n\u001b[1;32m   1852\u001b[0m     query, key, value, bias, q_seqlen, kv_seqlen, q_offsets, kv_offsets,\n\u001b[1;32m   1853\u001b[0m     scale, seed, dropout_rate, variadic_args, mask_type, layout\u001b[38;5;241m.\u001b[39mvalue,\n\u001b[1;32m   1854\u001b[0m     sliding_window_length, cudnn_version)\n\u001b[1;32m   1855\u001b[0m \u001b[38;5;28;01mreturn\u001b[39;00m output\n",
      "File \u001b[0;32m~/lmkit/lmkit/.venv/lib/python3.10/site-packages/jax/_src/cudnn/fused_attention_stablehlo.py:1118\u001b[0m, in \u001b[0;36m_dot_product_attention\u001b[0;34m()\u001b[0m\n\u001b[1;32m   1101\u001b[0m \u001b[38;5;129m@functools\u001b[39m\u001b[38;5;241m.\u001b[39mpartial(jax\u001b[38;5;241m.\u001b[39mcustom_vjp, nondiff_argnums\u001b[38;5;241m=\u001b[39m(\u001b[38;5;241m8\u001b[39m, \u001b[38;5;241m9\u001b[39m, \u001b[38;5;241m10\u001b[39m, \u001b[38;5;241m11\u001b[39m, \u001b[38;5;241m12\u001b[39m, \u001b[38;5;241m13\u001b[39m, \u001b[38;5;241m14\u001b[39m, \u001b[38;5;241m15\u001b[39m))\n\u001b[1;32m   1102\u001b[0m \u001b[38;5;28;01mdef\u001b[39;00m\u001b[38;5;250m \u001b[39m\u001b[38;5;21m_dot_product_attention\u001b[39m(query: Array,\n\u001b[1;32m   1103\u001b[0m                            key: Array,\n\u001b[0;32m   (...)\u001b[0m\n\u001b[1;32m   1116\u001b[0m                            sliding_window_length: \u001b[38;5;28mint\u001b[39m \u001b[38;5;241m|\u001b[39m \u001b[38;5;28;01mNone\u001b[39;00m,\n\u001b[1;32m   1117\u001b[0m                            cudnn_version: \u001b[38;5;28mint\u001b[39m):\n\u001b[0;32m-> 1118\u001b[0m   output \u001b[38;5;241m=\u001b[39m _dot_product_attention_fwd(\n\u001b[1;32m   1119\u001b[0m       query, key, value, bias, q_seqlen, kv_seqlen, q_offsets, kv_offsets,\n\u001b[1;32m   1120\u001b[0m       scale\u001b[38;5;241m=\u001b[39mscale, seed\u001b[38;5;241m=\u001b[39mseed, dropout_rate\u001b[38;5;241m=\u001b[39mdropout_rate,\n\u001b[1;32m   1121\u001b[0m       variadic_args\u001b[38;5;241m=\u001b[39mvariadic_args, mask_type\u001b[38;5;241m=\u001b[39mmask_type, layout\u001b[38;5;241m=\u001b[39mlayout,\n\u001b[1;32m   1122\u001b[0m       sliding_window_length\u001b[38;5;241m=\u001b[39msliding_window_length,\n\u001b[1;32m   1123\u001b[0m       cudnn_version\u001b[38;5;241m=\u001b[39mcudnn_version)\n\u001b[1;32m   1124\u001b[0m   \u001b[38;5;28;01mreturn\u001b[39;00m output\n",
      "File \u001b[0;32m~/lmkit/lmkit/.venv/lib/python3.10/site-packages/jax/_src/cudnn/fused_attention_stablehlo.py:404\u001b[0m, in \u001b[0;36m_dot_product_attention_fwd\u001b[0;34m()\u001b[0m\n\u001b[1;32m    401\u001b[0m check_is_flash_attention(\n\u001b[1;32m    402\u001b[0m     query, key, layout, cudnn_version, bias \u001b[38;5;129;01mis\u001b[39;00m \u001b[38;5;129;01mnot\u001b[39;00m \u001b[38;5;28;01mNone\u001b[39;00m, \u001b[38;5;28;01mFalse\u001b[39;00m,\n\u001b[1;32m    403\u001b[0m     get_max_seg_per_batch(q_offsets) \u001b[38;5;241m>\u001b[39m \u001b[38;5;241m1\u001b[39m)\n\u001b[0;32m--> 404\u001b[0m outputs \u001b[38;5;241m=\u001b[39m _dot_product_attention_fwd_p_wrapper\u001b[38;5;241m.\u001b[39mbind(\n\u001b[1;32m    405\u001b[0m     query, key, value, bias, q_seqlen, kv_seqlen, q_offsets, kv_offsets,\n\u001b[1;32m    406\u001b[0m     scale\u001b[38;5;241m=\u001b[39mscale, seed\u001b[38;5;241m=\u001b[39mseed, dropout_rate\u001b[38;5;241m=\u001b[39mdropout_rate,\n\u001b[1;32m    407\u001b[0m     variadic_args\u001b[38;5;241m=\u001b[39mvariadic_args, mask_type\u001b[38;5;241m=\u001b[39mmask_type, layout\u001b[38;5;241m=\u001b[39mlayout,\n\u001b[1;32m    408\u001b[0m     sliding_window_length\u001b[38;5;241m=\u001b[39msliding_window_length, is_training\u001b[38;5;241m=\u001b[39m\u001b[38;5;28;01mFalse\u001b[39;00m)\n\u001b[1;32m    409\u001b[0m output \u001b[38;5;241m=\u001b[39m outputs[\u001b[38;5;241m0\u001b[39m]\n",
      "\u001b[0;31mJaxStackTraceBeforeTransformation\u001b[0m: TypeError: cannot reshape array of shape (1,) (size 1) into shape (2,) (size 2)\n\nThe preceding stack trace is the source of the JAX operation that, once transformed by JAX, triggered the following exception.\n\n--------------------",
      "\nThe above exception was the direct cause of the following exception:\n",
      "\u001b[0;31mTypeError\u001b[0m                                 Traceback (most recent call last)",
      "Cell \u001b[0;32mIn[130], line 55\u001b[0m\n\u001b[1;32m     49\u001b[0m initial_texts \u001b[38;5;241m=\u001b[39m [\n\u001b[1;32m     50\u001b[0m     \u001b[38;5;124m\"\u001b[39m\u001b[38;5;124mQuestion: What is New York\u001b[39m\u001b[38;5;124m'\u001b[39m\u001b[38;5;124ms largest\u001b[39m\u001b[38;5;124m\"\u001b[39m,\n\u001b[1;32m     51\u001b[0m     \u001b[38;5;124m\"\u001b[39m\u001b[38;5;124mQuestion: Give me a haiku about how hard but rewarding writing JAX code is!\u001b[39m\u001b[38;5;124m\"\u001b[39m,\n\u001b[1;32m     52\u001b[0m ]\n\u001b[1;32m     54\u001b[0m max_new_tokens \u001b[38;5;241m=\u001b[39m \u001b[38;5;241m7\u001b[39m\n\u001b[0;32m---> 55\u001b[0m output_batch \u001b[38;5;241m=\u001b[39m \u001b[43mgenerate\u001b[49m\u001b[43m(\u001b[49m\u001b[43minitial_texts\u001b[49m\u001b[43m,\u001b[49m\u001b[43m \u001b[49m\u001b[43mmax_new_tokens\u001b[49m\u001b[43m,\u001b[49m\u001b[43m \u001b[49m\u001b[43mtokenizer\u001b[49m\u001b[43m,\u001b[49m\u001b[43m \u001b[49m\u001b[43mparams\u001b[49m\u001b[43m,\u001b[49m\u001b[43m \u001b[49m\u001b[43mconfig\u001b[49m\u001b[43m)\u001b[49m\n\u001b[1;32m     57\u001b[0m \u001b[38;5;28;01mfor\u001b[39;00m batch_item \u001b[38;5;129;01min\u001b[39;00m output_batch:\n\u001b[1;32m     58\u001b[0m     \u001b[38;5;28mprint\u001b[39m(batch_item)\n",
      "Cell \u001b[0;32mIn[130], line 32\u001b[0m, in \u001b[0;36mgenerate\u001b[0;34m(texts, max_new_tokens, tokenizer, params, config)\u001b[0m\n\u001b[1;32m     27\u001b[0m cache \u001b[38;5;241m=\u001b[39m transformer\u001b[38;5;241m.\u001b[39mTransformerCache(use_kv\u001b[38;5;241m=\u001b[39m\u001b[38;5;28;01mTrue\u001b[39;00m, sin\u001b[38;5;241m=\u001b[39msin, cos\u001b[38;5;241m=\u001b[39mcos,\n\u001b[1;32m     28\u001b[0m                                      positions\u001b[38;5;241m=\u001b[39mbatch_positions,\n\u001b[1;32m     29\u001b[0m                                      keys\u001b[38;5;241m=\u001b[39m\u001b[38;5;28;01mNone\u001b[39;00m, values\u001b[38;5;241m=\u001b[39m\u001b[38;5;28;01mNone\u001b[39;00m)\n\u001b[1;32m     31\u001b[0m \u001b[38;5;28;01mfor\u001b[39;00m step \u001b[38;5;129;01min\u001b[39;00m tqdm(\u001b[38;5;28mrange\u001b[39m(max_new_tokens)):\n\u001b[0;32m---> 32\u001b[0m     batch_logits, cache \u001b[38;5;241m=\u001b[39m \u001b[43mtransformer\u001b[49m\u001b[38;5;241;43m.\u001b[39;49m\u001b[43mrun_decoder\u001b[49m\u001b[43m(\u001b[49m\u001b[43mmodel_inputs\u001b[49m\u001b[43m,\u001b[49m\u001b[43m \u001b[49m\u001b[43mcache\u001b[49m\u001b[43m,\u001b[49m\u001b[43m \u001b[49m\u001b[43mparams\u001b[49m\u001b[43m,\u001b[49m\u001b[43m \u001b[49m\u001b[43mconfig\u001b[49m\u001b[43m)\u001b[49m\n\u001b[1;32m     33\u001b[0m     next_token_ids \u001b[38;5;241m=\u001b[39m [\u001b[38;5;28;01mNone\u001b[39;00m \u001b[38;5;28;01mfor\u001b[39;00m _ \u001b[38;5;129;01min\u001b[39;00m \u001b[38;5;28mrange\u001b[39m(batch_size)]\n\u001b[1;32m     36\u001b[0m     \u001b[38;5;28;01mfor\u001b[39;00m i, logits \u001b[38;5;129;01min\u001b[39;00m \u001b[38;5;28menumerate\u001b[39m(batch_logits):\n",
      "    \u001b[0;31m[... skipping hidden 7 frame]\u001b[0m\n",
      "File \u001b[0;32m~/lmkit/lmkit/lmkit/model/transformer.py:174\u001b[0m, in \u001b[0;36mrun_decoder\u001b[0;34m(inputs, cache, params, config)\u001b[0m\n\u001b[1;32m    172\u001b[0m \u001b[38;5;28;01mfor\u001b[39;00m i, layer_params \u001b[38;5;129;01min\u001b[39;00m \u001b[38;5;28menumerate\u001b[39m(params[\u001b[38;5;124m\"\u001b[39m\u001b[38;5;124mlayers\u001b[39m\u001b[38;5;124m\"\u001b[39m]):\n\u001b[1;32m    173\u001b[0m     y \u001b[38;5;241m=\u001b[39m rms_norm(x, layer_params[\u001b[38;5;124m\"\u001b[39m\u001b[38;5;124minput_norm\u001b[39m\u001b[38;5;124m\"\u001b[39m], eps\u001b[38;5;241m=\u001b[39mconfig[\u001b[38;5;124m\"\u001b[39m\u001b[38;5;124mnorm_eps\u001b[39m\u001b[38;5;124m\"\u001b[39m])\n\u001b[0;32m--> 174\u001b[0m     attn_out, new_layer_cache \u001b[38;5;241m=\u001b[39m \u001b[43mattention\u001b[49m\u001b[43m(\u001b[49m\u001b[43my\u001b[49m\u001b[43m,\u001b[49m\u001b[43m \u001b[49m\u001b[43mlayer_params\u001b[49m\u001b[43m[\u001b[49m\u001b[38;5;124;43m\"\u001b[39;49m\u001b[38;5;124;43mattn\u001b[39;49m\u001b[38;5;124;43m\"\u001b[39;49m\u001b[43m]\u001b[49m\u001b[43m,\u001b[49m\u001b[43m \u001b[49m\u001b[43mcache\u001b[49m\u001b[43m[\u001b[49m\u001b[43mi\u001b[49m\u001b[43m]\u001b[49m\u001b[43m,\u001b[49m\u001b[43m \u001b[49m\u001b[43mconfig\u001b[49m\u001b[43m)\u001b[49m\n\u001b[1;32m    175\u001b[0m     layer_caches\u001b[38;5;241m.\u001b[39mappend(new_layer_cache)\n\u001b[1;32m    176\u001b[0m     x \u001b[38;5;241m=\u001b[39m x \u001b[38;5;241m+\u001b[39m attn_out\n",
      "    \u001b[0;31m[... skipping hidden 38 frame]\u001b[0m\n",
      "File \u001b[0;32m~/lmkit/lmkit/.venv/lib/python3.10/site-packages/jax/_src/cudnn/fused_attention_stablehlo.py:795\u001b[0m, in \u001b[0;36m_dot_product_attention_fwd_batcher\u001b[0;34m(batched_args, batch_dims, scale, seed, dropout_rate, variadic_args, mask_type, layout, sliding_window_length, is_training)\u001b[0m\n\u001b[1;32m    793\u001b[0m   bias \u001b[38;5;241m=\u001b[39m jnp\u001b[38;5;241m.\u001b[39mreshape(bias, (B, N, T, S))\n\u001b[1;32m    794\u001b[0m \u001b[38;5;28;01mif\u001b[39;00m has_padding(mask_type):\n\u001b[0;32m--> 795\u001b[0m   q_seqlen \u001b[38;5;241m=\u001b[39m \u001b[43mjnp\u001b[49m\u001b[38;5;241;43m.\u001b[39;49m\u001b[43mreshape\u001b[49m\u001b[43m(\u001b[49m\u001b[43mq_seqlen\u001b[49m\u001b[43m,\u001b[49m\u001b[43m \u001b[49m\u001b[43m(\u001b[49m\u001b[43mB\u001b[49m\u001b[43m,\u001b[49m\u001b[43m \u001b[49m\u001b[43m)\u001b[49m\u001b[43m)\u001b[49m\n\u001b[1;32m    796\u001b[0m   kv_seqlen \u001b[38;5;241m=\u001b[39m jnp\u001b[38;5;241m.\u001b[39mreshape(kv_seqlen, (B, ))\n\u001b[1;32m    798\u001b[0m outputs \u001b[38;5;241m=\u001b[39m _dot_product_attention_fwd_p_wrapper\u001b[38;5;241m.\u001b[39mbind(\n\u001b[1;32m    799\u001b[0m     query, key, value, bias, q_seqlen, kv_seqlen, q_offsets, kv_offsets,\n\u001b[1;32m    800\u001b[0m     scale\u001b[38;5;241m=\u001b[39mscale, seed\u001b[38;5;241m=\u001b[39mseed, dropout_rate\u001b[38;5;241m=\u001b[39mdropout_rate,\n\u001b[1;32m    801\u001b[0m     variadic_args\u001b[38;5;241m=\u001b[39mvariadic_args, mask_type\u001b[38;5;241m=\u001b[39mmask_type, layout\u001b[38;5;241m=\u001b[39mlayout,\n\u001b[1;32m    802\u001b[0m     sliding_window_length\u001b[38;5;241m=\u001b[39msliding_window_length, is_training\u001b[38;5;241m=\u001b[39mis_training)\n",
      "    \u001b[0;31m[... skipping hidden 3 frame]\u001b[0m\n",
      "File \u001b[0;32m~/lmkit/lmkit/.venv/lib/python3.10/site-packages/jax/_src/numpy/array_methods.py:470\u001b[0m, in \u001b[0;36m_compute_newshape\u001b[0;34m(arr, newshape)\u001b[0m\n\u001b[1;32m    467\u001b[0m \u001b[38;5;28;01melse\u001b[39;00m:\n\u001b[1;32m    468\u001b[0m   \u001b[38;5;28;01mif\u001b[39;00m (\u001b[38;5;28mall\u001b[39m(\u001b[38;5;28misinstance\u001b[39m(d, \u001b[38;5;28mint\u001b[39m) \u001b[38;5;28;01mfor\u001b[39;00m d \u001b[38;5;129;01min\u001b[39;00m (\u001b[38;5;241m*\u001b[39marr\u001b[38;5;241m.\u001b[39mshape, \u001b[38;5;241m*\u001b[39mnewshape)) \u001b[38;5;129;01mand\u001b[39;00m\n\u001b[1;32m    469\u001b[0m       arr\u001b[38;5;241m.\u001b[39msize \u001b[38;5;241m!=\u001b[39m math\u001b[38;5;241m.\u001b[39mprod(newshape)):\n\u001b[0;32m--> 470\u001b[0m     \u001b[38;5;28;01mraise\u001b[39;00m \u001b[38;5;167;01mTypeError\u001b[39;00m(\u001b[38;5;124mf\u001b[39m\u001b[38;5;124m\"\u001b[39m\u001b[38;5;124mcannot reshape array of shape \u001b[39m\u001b[38;5;132;01m{\u001b[39;00marr\u001b[38;5;241m.\u001b[39mshape\u001b[38;5;132;01m}\u001b[39;00m\u001b[38;5;124m (size \u001b[39m\u001b[38;5;132;01m{\u001b[39;00marr\u001b[38;5;241m.\u001b[39msize\u001b[38;5;132;01m}\u001b[39;00m\u001b[38;5;124m) \u001b[39m\u001b[38;5;124m\"\u001b[39m\n\u001b[1;32m    471\u001b[0m                     \u001b[38;5;124mf\u001b[39m\u001b[38;5;124m\"\u001b[39m\u001b[38;5;124minto shape \u001b[39m\u001b[38;5;132;01m{\u001b[39;00morig_newshape\u001b[38;5;132;01m}\u001b[39;00m\u001b[38;5;124m (size \u001b[39m\u001b[38;5;132;01m{\u001b[39;00mmath\u001b[38;5;241m.\u001b[39mprod(newshape)\u001b[38;5;132;01m}\u001b[39;00m\u001b[38;5;124m)\u001b[39m\u001b[38;5;124m\"\u001b[39m)\n\u001b[1;32m    472\u001b[0m \u001b[38;5;28;01mreturn\u001b[39;00m \u001b[38;5;28mtuple\u001b[39m(\u001b[38;5;241m-\u001b[39mcore\u001b[38;5;241m.\u001b[39mdivide_shape_sizes(arr\u001b[38;5;241m.\u001b[39mshape, newshape)\n\u001b[1;32m    473\u001b[0m              \u001b[38;5;28;01mif\u001b[39;00m core\u001b[38;5;241m.\u001b[39mdefinitely_equal(d, \u001b[38;5;241m-\u001b[39m\u001b[38;5;241m1\u001b[39m) \u001b[38;5;28;01melse\u001b[39;00m d \u001b[38;5;28;01mfor\u001b[39;00m d \u001b[38;5;129;01min\u001b[39;00m newshape)\n",
      "\u001b[0;31mTypeError\u001b[0m: cannot reshape array of shape (1,) (size 1) into shape (2,) (size 2)"
     ]
    }
   ],
   "source": [
    "from tqdm.auto import tqdm\n",
    "\n",
    "def generate(texts, max_new_tokens, tokenizer, params, config):\n",
    "    head_dim = config[\"hidden_size\"] // config[\"num_heads\"]\n",
    "    batch_size = len(texts)\n",
    "\n",
    "    encoded_batch = tokenizer.encode_batch(texts)\n",
    "    padded_tokens = jnp.array(list(map(lambda x: x.ids, encoded_batch)), dtype=jnp.int32)\n",
    "\n",
    "    mask = padded_tokens != tokenizer.pad_token_id\n",
    "    real_tokens = [tokens[m].tolist() for tokens, m in zip(padded_tokens, mask)]\n",
    "\n",
    "    max_current_len = padded_tokens.shape[-1]\n",
    "    max_total_len = max_current_len + max_new_tokens\n",
    "\n",
    "    model_inputs = padded_tokens\n",
    "\n",
    "\n",
    "    full_positions = jnp.arange(max_total_len, dtype=jnp.int32)\n",
    "    sin, cos = transformer.build_rope_cache(full_positions, head_dim, config[\"rope_base\"])\n",
    "\n",
    "\n",
    "    batch_positions = -jnp.ones((batch_size, max_current_len), dtype=jnp.int32)\n",
    "    batch_positions = jnp.where(model_inputs != tokenizer.pad_token_id, jnp.arange(max_current_len), -1)\n",
    "    seq_lens = jnp.sum(batch_positions >= 0, axis=-1)\n",
    "\n",
    "    cache = transformer.TransformerCache(use_kv=True, sin=sin, cos=cos,\n",
    "                                         positions=batch_positions,\n",
    "                                         keys=None, values=None)\n",
    "    \n",
    "    for step in tqdm(range(max_new_tokens)):\n",
    "        batch_logits, cache = transformer.run_decoder(model_inputs, cache, params, config)\n",
    "        next_token_ids = [None for _ in range(batch_size)]\n",
    "\n",
    "\n",
    "        for i, logits in enumerate(batch_logits):\n",
    "            logits_idx = seq_lens[i] - 1 if step == 0 else 0\n",
    "            next_token_ids[i] = jnp.argmax(logits[logits_idx])\n",
    "            real_tokens[i].append(next_token_ids[i])\n",
    "        \n",
    "        next_token_ids = jnp.array(next_token_ids).astype(jnp.int32)[..., None]\n",
    "\n",
    "        model_inputs = next_token_ids\n",
    "        seq_lens += 1\n",
    "        cache = cache.next()\n",
    "\n",
    "    return tokenizer.decode_batch(real_tokens, skip_special_tokens=False)\n",
    "\n",
    "initial_texts = [\n",
    "    \"Question: What is New York's largest\",\n",
    "    \"Question: Give me a haiku about how hard but rewarding writing JAX code is!\",\n",
    "]\n",
    "\n",
    "max_new_tokens = 7\n",
    "output_batch = generate(initial_texts, max_new_tokens, tokenizer, params, config)\n",
    "\n",
    "for batch_item in output_batch:\n",
    "    print(batch_item)"
   ]
  }
 ],
 "metadata": {
  "kernelspec": {
   "display_name": ".venv",
   "language": "python",
   "name": "python3"
  },
  "language_info": {
   "codemirror_mode": {
    "name": "ipython",
    "version": 3
   },
   "file_extension": ".py",
   "mimetype": "text/x-python",
   "name": "python",
   "nbconvert_exporter": "python",
   "pygments_lexer": "ipython3",
   "version": "3.10.12"
  }
 },
 "nbformat": 4,
 "nbformat_minor": 2
}
