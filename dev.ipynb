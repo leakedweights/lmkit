{
 "cells": [
  {
   "cell_type": "code",
   "execution_count": 1,
   "metadata": {},
   "outputs": [],
   "source": [
    "%load_ext autoreload\n",
    "%autoreload 2"
   ]
  },
  {
   "cell_type": "code",
   "execution_count": 2,
   "metadata": {},
   "outputs": [
    {
     "name": "stdout",
     "output_type": "stream",
     "text": [
      "Cuda processing allowed: True\n"
     ]
    },
    {
     "name": "stderr",
     "output_type": "stream",
     "text": [
      "Loading safetensors: 100%|██████████| 4/4 [00:08<00:00,  2.04s/it]\n"
     ]
    }
   ],
   "source": [
    "import os\n",
    "\n",
    "from lmkit.model import sampler, config as config_lib\n",
    "from lmkit.tools import compat\n",
    "from flax.core import FrozenDict\n",
    "\n",
    "repo = \"meta-llama/Meta-Llama-3-8B-Instruct\"\n",
    "model_dir = \"models/llama3\"\n",
    "\n",
    "if not os.path.exists(model_dir) or not os.listdir(model_dir):\n",
    "    from dotenv import load_dotenv\n",
    "    load_dotenv()\n",
    "\n",
    "    compat.from_hf(repo, model_dir, token=os.environ[\"HF_API_TOKEN\"])\n",
    "\n",
    "params = compat.params_to_lmkit(compat.gather_for_jax(model_dir))\n",
    "params = FrozenDict(params)\n",
    "config = compat.load_lmkit_config(f\"{model_dir}/config.json\")\n",
    "config = config_lib.extend_llama(config)\n",
    "\n",
    "tokenizer = compat.load_lmkit_tokenizer(\n",
    "    f\"{model_dir}/tokenizer.json\", f\"{model_dir}/generation_config.json\"\n",
    ")\n"
   ]
  },
  {
   "cell_type": "code",
   "execution_count": 6,
   "metadata": {},
   "outputs": [
    {
     "data": {
      "application/vnd.jupyter.widget-view+json": {
       "model_id": "e98fb20a06954f59ba33f32b633be018",
       "version_major": 2,
       "version_minor": 0
      },
      "text/plain": [
       "  0%|          | 0/100 [00:00<?, ?it/s]"
      ]
     },
     "metadata": {},
     "output_type": "display_data"
    },
    {
     "data": {
      "text/plain": [
       "['Question: What is a Josephson junction?\\nAnswer: A Josephson junction is a device that consists of two superconducting materials separated by a thin layer of insulating material. When the two superconducting materials are in close proximity to each other, the insulating material can become a superconductor, and a current can flow through the junction. Josephson junctions are used in a variety of applications, including superconducting quantum interference devices (SQUIDs) and superconducting quantum computers.\\nStep-by-step reasoning process: A Josephson',\n",
       " \"Question: What is the capital of Csongrád-Csanád County?\\nAnswer: Szeged\\nSzeged is the capital of Csongrád-Csanád County in Hungary. It is located in the southern part of the Great Hungarian Plain, near the Tisza River. The city has a rich history dating back to the Roman era, and it has been an important cultural and economic center in the region for centuries. Szeged is known for its beautiful architecture, including the stunning St. Stephen's Cathedral, and its vibrant cultural scene, which features numerous museums\"]"
      ]
     },
     "execution_count": 6,
     "metadata": {},
     "output_type": "execute_result"
    }
   ],
   "source": [
    "from jax import random\n",
    "\n",
    "prompts = [\n",
    "    \"Question: What is a Josephson junction?\\nAnswer:\",\n",
    "    \"Question: What is the capital of Csongrád-Csanád County?\\nAnswer:\",\n",
    "]\n",
    "\n",
    "sampler.generate(inputs=prompts,\n",
    "                 max_new_tokens=100,\n",
    "                 tokenizer=tokenizer,\n",
    "                 params=params,\n",
    "                 config=config,\n",
    "                 random_key=random.key(0),\n",
    "                 return_text=True,\n",
    "                 verbose=True,)"
   ]
  }
 ],
 "metadata": {
  "kernelspec": {
   "display_name": ".venv",
   "language": "python",
   "name": "python3"
  },
  "language_info": {
   "codemirror_mode": {
    "name": "ipython",
    "version": 3
   },
   "file_extension": ".py",
   "mimetype": "text/x-python",
   "name": "python",
   "nbconvert_exporter": "python",
   "pygments_lexer": "ipython3",
   "version": "3.10.12"
  }
 },
 "nbformat": 4,
 "nbformat_minor": 2
}
