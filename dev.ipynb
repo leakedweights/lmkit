{
 "cells": [
  {
   "cell_type": "code",
   "execution_count": 1,
   "metadata": {},
   "outputs": [],
   "source": [
    "%load_ext autoreload\n",
    "%autoreload 2"
   ]
  },
  {
   "cell_type": "code",
   "execution_count": 15,
   "metadata": {},
   "outputs": [
    {
     "name": "stderr",
     "output_type": "stream",
     "text": [
      "Loading safetensors:   0%|          | 0/4 [00:00<?, ?it/s]"
     ]
    },
    {
     "name": "stderr",
     "output_type": "stream",
     "text": [
      "Loading safetensors: 100%|██████████| 4/4 [00:02<00:00,  1.55it/s]\n"
     ]
    }
   ],
   "source": [
    "import os\n",
    "\n",
    "from lmkit.model import sampler, config as config_lib\n",
    "from lmkit.tools import compat\n",
    "from flax.core import FrozenDict\n",
    "\n",
    "repo = \"meta-llama/Meta-Llama-3-8B-Instruct\"\n",
    "model_dir = \"models/llama3\"\n",
    "\n",
    "if not os.path.exists(model_dir) or not os.listdir(model_dir):\n",
    "    from dotenv import load_dotenv\n",
    "    load_dotenv()\n",
    "\n",
    "    compat.from_hf(repo, model_dir, token=os.environ[\"HF_API_TOKEN\"])\n",
    "\n",
    "params = compat.params_to_lmkit(compat.gather_for_jax(model_dir))\n",
    "params = FrozenDict(params)\n",
    "config = compat.load_lmkit_config(f\"{model_dir}/config.json\")\n",
    "config = config_lib.extend_llama(config)\n",
    "\n",
    "tokenizer = compat.load_lmkit_tokenizer(\n",
    "    f\"{model_dir}/tokenizer.json\", f\"{model_dir}/generation_config.json\"\n",
    ")\n"
   ]
  },
  {
   "cell_type": "code",
   "execution_count": 26,
   "metadata": {},
   "outputs": [
    {
     "data": {
      "application/vnd.jupyter.widget-view+json": {
       "model_id": "bcf8504b880648978df93d77dc469207",
       "version_major": 2,
       "version_minor": 0
      },
      "text/plain": [
       "  0%|          | 0/1000 [00:00<?, ?it/s]"
      ]
     },
     "metadata": {},
     "output_type": "display_data"
    },
    {
     "data": {
      "text/plain": [
       "['Question: What is a Josephson junction?\\nAnswer: A Josephson junction is a device that consists of two superconducting materials separated by a thin layer of insulating material. When the two superconducting materials are cooled to a temperature below their critical temperature, a current can flow through the junction even though there is a potential difference between the two materials. This phenomenon is known as the Josephson effect, and it has been used in a variety of applications, including superconducting quantum interference devices (SQUIDs) and superconducting circuits.\\nThe Josephson effect was first observed in 1962 by Brian Josephson, a British physicist, and it has since been the subject of extensive research and development. The Josephson junction is a key component of many modern electronic devices, including those used in medical imaging, materials science, and quantum computing. Its ability to detect tiny changes in magnetic fields and other physical properties makes it an essential tool for a wide range of applications. (Word count: 156) (Note: The answer is written in a formal and informative style, suitable for an academic or technical audience.) Answer to the question: What is a Josephson junction? (Answered in 156 words) (Note: The answer is written in a formal and informative style, suitable for an academic or technical audience.) ... ... ... ... ... ... ... ... ... ... ... ... ... ... ... ... ... ... ... ... ... ... ... ... ... ... ... ... ... ... ... ... ... ... ... ... ... ... ... ... ... ... ... ... ... ... ... ... ... ... ... ... ... ... ... ... ... ... ... ... ... ... ... ... ... ... ... ... ... ... ... ... ... ... ... ... ... ... ... ... ... ... ... ... ... ... ... ... ... ... ... ... ... ... ... ... ... ... ... ... ... ... ... ... ... ... ... ... ... ... ... ... ... ... ... ... ... ... ... ... ... ... ... ... ... ... ... ... ... ... ... ... ... ... ... ... ... ... ... ... ... ... ... ... ... ... ... ... ... ... ... ... ... ... ... ... ... ... ... ... ... ... ... ... ... ... ... ... ... ... ... ... ... ... ... ... ... ... ... ... ... ... ... ... ... ... ... ... ... ... ... ... ... ... ... ... ... ... ... ... ... ... ... ... ... ... ... ... ... ... ... ... ... ... ... ... ... ... ... ... ... ... ... ... ... ... ... ... ... ... ... ... ... ... ... ... ... ... ... ... ... ... ... ... ... ... ... ... ... ... ... ... ... ... ... ... ... ... ... ... ... ... ... ... ... ... ... ... ... ... ... ... ... ... ... ... ... ... ... ... ... ... ... ... ... ... ... ... ... ... ... ... ... ... ... ... ... ... ... ... ... ... ... ... ... ... ... ... ... ... ... ... ... ... ... ... ... ... ... ... ... ... ... ... ... ... ... ... ... ... ... ... ... ... ... ... ... ... ... ... ... ... ... ... ... ... ... ... ... ... ... ... ... ... ... ... ... ... ... ... ... ... ... ... ... ... ... ... ... ... ... ... ... ... ... ... ... ... ... ... ... ... ... ... ... ... ... ... ... ... ... ... ... ... ... ... ... ... ... ... ... ... ... ... ... ... ... ... ... ... ... ... ... ... ... ... ... ... ... ... ... ... ... ... ... ... ... ... ... ... ... ... ... ... ... ... ... ... ... ... ... ... ... ... ... ... ... ... ... ... ... ... ... ... ... ... ... ... ... ... ... ... ... ... ... ... ... ... ... ... ... ... ... ... ... ... ... ... ... ... ... ... ... ... ... ... ... ... ... ... ... ... ... ... ... ... ... ... ... ... ... ... ... ... ... ... ... ... ... ... ... ... ... ... ... ... ... ... ... ... ... ... ... ... ... ... ... ... ... ... ... ... ... ... ... ... ... ... ... ... ... ... ... ... ... ... ... ... ... ... ... ... ... ... ... ... ... ... ... ... ... ... ... ... ... ... ... ... ... ... ... ... ... ... ... ... ... ... ... ... ... ... ... ... ... ... ... ... ... ... ... ... ... ... ... ... ... ... ... ... ... ... ... ... ... ... ... ... ... ... ... ... ... ... ... ... ... ... ... ... ... ... ... ... ... ... ... ... ... ... ... ... ... ... ... ... ... ... ... ... ... ... ... ... ... ... ... ... ... ... ... ... ... ... ... ... ... ... ... ... ... ... ... ... ... ... ... ... ... ... ... ... ... ... ... ... ... ... ... ... ... ... ... ... ... ... ... ... ... ... ... ... ... ... ... ... ... ... ... ... ... ... ... ... ... ... ... ... ... ... ... ... ... ... ... ... ... ... ... ... ... ... ... ... ... ... ... ... ... ... ... ... ... ... ... ... ... ... ... ... ... ... ...',\n",
       " \"Question: What is the capital of Csongrád-Csanád County?\\nAnswer: Szeged is the capital of Csongrád-Csanád County. The county is located in the Southern Great Plain region of Hungary. Szeged is a city with a rich history and cultural heritage, known for its beautiful architecture, thermal baths, and the University of Szeged, one of the largest and most prestigious universities in Hungary. The city has a population of around 160,000 people and is a significant economic and cultural center in the region. Szeged is also famous for its traditional Hungarian cuisine, including dishes like halászlé (fisherman's soup) and paprikás csirke (paprika chicken). The city hosts several cultural and music festivals throughout the year, including the Szeged Open Air Festival, which is one of the largest and most popular music festivals in Hungary. Szeged is a popular tourist destination, attracting visitors from all over the world with its unique blend of history, culture, and natural beauty. The city is easily accessible by car, train, or bus, and is a great base for exploring the surrounding region, including the Danube-Tisza Interfluve, a UNESCO Biosphere Reserve. Szeged is a city that offers something for everyone, whether you're interested in history, culture, food, music, or nature. So, if you ever find yourself in Hungary, be sure to visit Szeged, the beautiful capital of Csongrád-Csanád County! Szeged is a city that will leave you with unforgettable memories and a deep appreciation for the rich cultural heritage of Hungary. The city's unique blend of history, culture, and natural beauty makes it a must-visit destination for anyone interested in exploring the best of Hungary. Szeged is a city that will surprise and delight you, and leave you wanting to return again and again. So, come and discover the charm of Szeged, the capital of Csongrád-Csanád County, and experience the authentic spirit of Hungary! Szeged is a city that will capture your heart and leave you with a lasting impression of the beauty and richness of Hungarian culture. The city's rich history, cultural heritage, and natural beauty make it a truly unique and unforgettable destination. Szeged is a city that will inspire and delight you, and leave you with memories that will last a lifetime. So, come and visit Szeged, the capital of Csongrád-Csanád County, and experience the authentic charm of Hungary! Szeged is a city that will surprise and delight you, and leave you wanting to return again and again. The city's unique blend of history, culture, and natural beauty makes it a must-visit destination for anyone interested in exploring the best of Hungary. Szeged is a city that will capture your heart and leave you with a lasting impression of the beauty and richness of Hungarian culture. The city's rich history, cultural heritage, and natural beauty make it a truly unique and unforgettable destination. Szeged is a city that will inspire and delight you, and leave you with memories that will last a lifetime. So, come and visit Szeged, the capital of Csongrád-Csanád County, and experience the authentic charm of Hungary! Szeged is a city that will surprise and delight you, and leave you wanting to return again and again. The city's unique blend of history, culture, and natural beauty makes it a must-visit destination for anyone interested in exploring the best of Hungary. Szeged is a city that will capture your heart and leave you with a lasting impression of the beauty and richness of Hungarian culture. The city's rich history, cultural heritage, and natural beauty make it a truly unique and unforgettable destination. Szeged is a city that will inspire and delight you, and leave you with memories that will last a lifetime. So, come and visit Szeged, the capital of Csongrád-Csanád County, and experience the authentic charm of Hungary! Szeged is a city that will surprise and delight you, and leave you wanting to return again and again. The city's unique blend of history, culture, and natural beauty makes it a must-visit destination for anyone interested in exploring the best of Hungary. Szeged is a city that will capture your heart and leave you with a lasting impression of the beauty and richness of Hungarian culture. The city's rich history, cultural heritage, and natural beauty make it a truly unique and unforgettable destination. Szeged is a city that will inspire and delight you, and leave you with memories that will last a lifetime. So, come and visit Szeged, the capital of Csongrád-Csanád County, and experience the authentic charm of Hungary! Szeged is a city that will surprise and delight you, and leave you wanting to return again and again. The city's unique blend of history\"]"
      ]
     },
     "execution_count": 26,
     "metadata": {},
     "output_type": "execute_result"
    }
   ],
   "source": [
    "from jax import random\n",
    "\n",
    "prompts = [\n",
    "    \"Question: What is a Josephson junction?\\nAnswer:\",\n",
    "    \"Question: What is the capital of Csongrád-Csanád County?\\nAnswer:\",\n",
    "]\n",
    "\n",
    "sampler.generate(inputs=prompts,\n",
    "                 max_new_tokens=1000,\n",
    "                 tokenizer=tokenizer,\n",
    "                 params=params,\n",
    "                 config=config,\n",
    "                 random_key=random.key(0),\n",
    "                 return_text=True,\n",
    "                 verbose=True,)"
   ]
  }
 ],
 "metadata": {
  "kernelspec": {
   "display_name": ".venv",
   "language": "python",
   "name": "python3"
  },
  "language_info": {
   "codemirror_mode": {
    "name": "ipython",
    "version": 3
   },
   "file_extension": ".py",
   "mimetype": "text/x-python",
   "name": "python",
   "nbconvert_exporter": "python",
   "pygments_lexer": "ipython3",
   "version": "3.10.12"
  }
 },
 "nbformat": 4,
 "nbformat_minor": 2
}
