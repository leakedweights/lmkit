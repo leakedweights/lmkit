{
 "cells": [
  {
   "cell_type": "code",
   "execution_count": 1,
   "metadata": {},
   "outputs": [],
   "source": [
    "%load_ext autoreload\n",
    "%autoreload 2"
   ]
  },
  {
   "cell_type": "code",
   "execution_count": 2,
   "metadata": {},
   "outputs": [],
   "source": [
    "import os\n",
    "import jax.numpy as jnp\n",
    "\n",
    "from lmkit.model import transformer, config as config_lib\n",
    "from lmkit.tools import compat"
   ]
  },
  {
   "cell_type": "code",
   "execution_count": 3,
   "metadata": {},
   "outputs": [
    {
     "name": "stderr",
     "output_type": "stream",
     "text": [
      "Loading safetensors:   0%|          | 0/4 [00:00<?, ?it/s]"
     ]
    },
    {
     "name": "stderr",
     "output_type": "stream",
     "text": [
      "Loading safetensors: 100%|██████████| 4/4 [00:08<00:00,  2.18s/it]\n"
     ]
    }
   ],
   "source": [
    "repo = \"meta-llama/Llama-3.1-8B-Instruct\"\n",
    "model_dir = \"models/llama3\"\n",
    "\n",
    "if not os.path.exists(model_dir) or not os.listdir(model_dir):\n",
    "    from dotenv import load_dotenv\n",
    "    load_dotenv()\n",
    "\n",
    "    compat.from_hf(repo, model_dir, token=os.environ[\"HF_API_TOKEN\"])\n",
    "\n",
    "params = compat.params_to_lmkit(compat.gather_for_jax(model_dir))\n",
    "config = compat.load_lmkit_config(f\"{model_dir}/config.json\")\n",
    "config = config_lib.extend_llama(config)"
   ]
  },
  {
   "cell_type": "code",
   "execution_count": null,
   "metadata": {},
   "outputs": [],
   "source": [
    "import jax\n",
    "import jax.numpy as jnp\n",
    "from flax.core import FrozenDict\n",
    "from IPython.display import clear_output\n",
    "\n",
    "tokenizer = compat.load_lmkit_tokenizer(\n",
    "    f\"{model_dir}/tokenizer.json\", f\"{model_dir}/generation_config.json\"\n",
    ")\n",
    "\n",
    "initial_text = \"Bro...\"\n",
    "sequences = list(map(lambda x: x.ids, tokenizer.encode_batch([initial_text])))\n",
    "\n",
    "max_new_tokens = 100\n",
    "temperature = 0.3\n",
    "key = jax.random.key(80)\n",
    "\n",
    "model_inputs = jnp.array(sequences)\n",
    "seq_lengths = jnp.array([len(seq) for seq in sequences])[..., None]\n",
    "\n",
    "current_output = tokenizer.decode_batch(sequences)[0]\n",
    "\n",
    "# Print the initial output\n",
    "clear_output(wait=True)\n",
    "print(current_output, end=\"\", flush=True)\n",
    "\n",
    "for i in range(max_new_tokens):\n",
    "    output = transformer.run_decoder(model_inputs, seq_lengths, params, config)\n",
    "\n",
    "    logits = output[:, -1, :]\n",
    "\n",
    "    scaled_logits = logits / temperature\n",
    "\n",
    "    probs = jax.nn.softmax(scaled_logits, axis=-1)\n",
    "\n",
    "    step_key = jax.random.fold_in(key, i)\n",
    "    next_tokens = jax.random.categorical(step_key, scaled_logits, axis=-1)\n",
    "\n",
    "    model_inputs = jnp.concatenate([model_inputs, next_tokens[:, None]], axis=1)\n",
    "    seq_lengths = seq_lengths + 1\n",
    "\n",
    "    next_token_str = tokenizer.decode_batch(next_tokens[:, None], skip_special_tokens=False)[0]\n",
    "\n",
    "    current_output += next_token_str\n",
    "\n",
    "    # Clear the previous output and print the updated output\n",
    "    clear_output(wait=True)\n",
    "    print(current_output, end=\"\", flush=True)\n",
    "\n",
    "# After the loop, print a final newline to finalize the output.\n",
    "print()\n"
   ]
  },
  {
   "cell_type": "code",
   "execution_count": null,
   "metadata": {},
   "outputs": [],
   "source": []
  }
 ],
 "metadata": {
  "kernelspec": {
   "display_name": ".venv",
   "language": "python",
   "name": "python3"
  },
  "language_info": {
   "codemirror_mode": {
    "name": "ipython",
    "version": 3
   },
   "file_extension": ".py",
   "mimetype": "text/x-python",
   "name": "python",
   "nbconvert_exporter": "python",
   "pygments_lexer": "ipython3",
   "version": "3.10.12"
  }
 },
 "nbformat": 4,
 "nbformat_minor": 2
}
